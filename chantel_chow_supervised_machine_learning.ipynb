{
 "cells": [
  {
   "cell_type": "markdown",
   "id": "3eea3c4d",
   "metadata": {
    "id": "3eea3c4d"
   },
   "source": [
    "# Retaining existing customers at Beta Bank\n",
    "Background:\n",
    "- Customers are churning at Beta Bank. Want to retain existing customers\n",
    "\n",
    "Goal:\n",
    "- Our goal is use customers past behavior and termination of contracts with the bank to predict whether customer will churn. The model will need F1 score at least 0.59\n",
    "\n",
    "Stages:\n",
    "- We have already performed the data processing step earlier, so we will focus on creating the model here.\n",
    "\n",
    "- Since we are predicting churn or not, we will use classification models as opposed to regression models.\n",
    "\n",
    "- We will set the F1 score to at least 0.59. We will split the data into training set, validation set and a test set."
   ]
  },
  {
   "cell_type": "markdown",
   "id": "9e35de1b",
   "metadata": {
    "id": "9e35de1b"
   },
   "source": [
    "<div class=\"alert alert-block alert-warning\">\n",
    "<b></b> <a class=\"tocSkip\"></a>   \n",
    "    \n",
    "> # Contents <a id='back'></a>\n",
    "> * [Introduction](#intro)\n",
    "    * [Stage 1. Importing libraries](#Import-Libraries)\n",
    "    * [Stage 2. Data Processing](#Data-Processing)\n",
    "    * [Stage 3. Preparing data](#Preparing-data)\n",
    "    * [Stage 4. Splitting data](#Splitting-data)\n",
    "    * [Stage 5. Imbalanced data check](#Imbalanced-data-check)\n",
    "    * [Stage 6. Baseline logistic regression check for imbalanced data](#Baseline-logistic-regression-check-for-imbalanced-data)\n",
    "    * [Stage 7. Random upsampling](#Random-upsampling)\n",
    "    * [Stage 8. Class weight adjustment](#Class-weight-adjustment)\n",
    "    * [Stage 9. SMOTE](#SMOTE)\n",
    "    * [Stage 10. Random Under Sampler](#Random-Under-Sampler)\n",
    "    * [Stage 11. Testing Dataset](#Testing-Dataset)\n",
    "> * [Conclusion](#Conclusion)"
   ]
  },
  {
   "cell_type": "markdown",
   "id": "0b08c418",
   "metadata": {
    "id": "0b08c418"
   },
   "source": [
    "# Import Libraries"
   ]
  },
  {
   "cell_type": "code",
   "execution_count": 1,
   "id": "c212d300",
   "metadata": {
    "id": "c212d300"
   },
   "outputs": [],
   "source": [
    "\n",
    "import pandas as pd\n",
    "import matplotlib.pyplot as plt\n",
    "from sklearn.ensemble import RandomForestClassifier\n",
    "from sklearn.tree import DecisionTreeClassifier\n",
    "from sklearn.model_selection import RandomizedSearchCV, train_test_split, GridSearchCV\n",
    "from sklearn.metrics import accuracy_score, precision_score, recall_score, roc_auc_score, roc_curve\n",
    "from sklearn.linear_model import LogisticRegression\n",
    "from scipy.stats import randint\n",
    "import numpy as np"
   ]
  },
  {
   "cell_type": "markdown",
   "id": "bc2dfe99",
   "metadata": {
    "id": "bc2dfe99"
   },
   "source": [
    "# Data Processing"
   ]
  },
  {
   "cell_type": "code",
   "execution_count": 2,
   "id": "03588050",
   "metadata": {
    "id": "03588050"
   },
   "outputs": [],
   "source": [
    "try:\n",
    "    churn = pd.read_csv('/Users/dankeichow/Downloads/Churn.csv')\n",
    "except:\n",
    "    churn = pd.read_csv('/datasets/Churn.csv')"
   ]
  },
  {
   "cell_type": "code",
   "execution_count": 3,
   "id": "ef467a1e",
   "metadata": {
    "id": "ef467a1e",
    "outputId": "53f9588f-dd2a-4805-bffc-02bb363af1f3"
   },
   "outputs": [
    {
     "name": "stdout",
     "output_type": "stream",
     "text": [
      "<class 'pandas.core.frame.DataFrame'>\n",
      "RangeIndex: 10000 entries, 0 to 9999\n",
      "Data columns (total 14 columns):\n",
      " #   Column           Non-Null Count  Dtype  \n",
      "---  ------           --------------  -----  \n",
      " 0   RowNumber        10000 non-null  int64  \n",
      " 1   CustomerId       10000 non-null  int64  \n",
      " 2   Surname          10000 non-null  object \n",
      " 3   CreditScore      10000 non-null  int64  \n",
      " 4   Geography        10000 non-null  object \n",
      " 5   Gender           10000 non-null  object \n",
      " 6   Age              10000 non-null  int64  \n",
      " 7   Tenure           9091 non-null   float64\n",
      " 8   Balance          10000 non-null  float64\n",
      " 9   NumOfProducts    10000 non-null  int64  \n",
      " 10  HasCrCard        10000 non-null  int64  \n",
      " 11  IsActiveMember   10000 non-null  int64  \n",
      " 12  EstimatedSalary  10000 non-null  float64\n",
      " 13  Exited           10000 non-null  int64  \n",
      "dtypes: float64(3), int64(8), object(3)\n",
      "memory usage: 1.1+ MB\n"
     ]
    }
   ],
   "source": [
    "churn.info()"
   ]
  },
  {
   "cell_type": "code",
   "execution_count": 4,
   "id": "7d696dca",
   "metadata": {
    "id": "7d696dca",
    "outputId": "b81589f7-5bff-4b73-82d0-d43e173fc3bc",
    "scrolled": true
   },
   "outputs": [
    {
     "data": {
      "text/html": [
       "<div>\n",
       "<style scoped>\n",
       "    .dataframe tbody tr th:only-of-type {\n",
       "        vertical-align: middle;\n",
       "    }\n",
       "\n",
       "    .dataframe tbody tr th {\n",
       "        vertical-align: top;\n",
       "    }\n",
       "\n",
       "    .dataframe thead th {\n",
       "        text-align: right;\n",
       "    }\n",
       "</style>\n",
       "<table border=\"1\" class=\"dataframe\">\n",
       "  <thead>\n",
       "    <tr style=\"text-align: right;\">\n",
       "      <th></th>\n",
       "      <th>RowNumber</th>\n",
       "      <th>CustomerId</th>\n",
       "      <th>Surname</th>\n",
       "      <th>CreditScore</th>\n",
       "      <th>Geography</th>\n",
       "      <th>Gender</th>\n",
       "      <th>Age</th>\n",
       "      <th>Tenure</th>\n",
       "      <th>Balance</th>\n",
       "      <th>NumOfProducts</th>\n",
       "      <th>HasCrCard</th>\n",
       "      <th>IsActiveMember</th>\n",
       "      <th>EstimatedSalary</th>\n",
       "      <th>Exited</th>\n",
       "    </tr>\n",
       "  </thead>\n",
       "  <tbody>\n",
       "    <tr>\n",
       "      <th>0</th>\n",
       "      <td>1</td>\n",
       "      <td>15634602</td>\n",
       "      <td>Hargrave</td>\n",
       "      <td>619</td>\n",
       "      <td>France</td>\n",
       "      <td>Female</td>\n",
       "      <td>42</td>\n",
       "      <td>2.0</td>\n",
       "      <td>0.00</td>\n",
       "      <td>1</td>\n",
       "      <td>1</td>\n",
       "      <td>1</td>\n",
       "      <td>101348.88</td>\n",
       "      <td>1</td>\n",
       "    </tr>\n",
       "    <tr>\n",
       "      <th>1</th>\n",
       "      <td>2</td>\n",
       "      <td>15647311</td>\n",
       "      <td>Hill</td>\n",
       "      <td>608</td>\n",
       "      <td>Spain</td>\n",
       "      <td>Female</td>\n",
       "      <td>41</td>\n",
       "      <td>1.0</td>\n",
       "      <td>83807.86</td>\n",
       "      <td>1</td>\n",
       "      <td>0</td>\n",
       "      <td>1</td>\n",
       "      <td>112542.58</td>\n",
       "      <td>0</td>\n",
       "    </tr>\n",
       "    <tr>\n",
       "      <th>2</th>\n",
       "      <td>3</td>\n",
       "      <td>15619304</td>\n",
       "      <td>Onio</td>\n",
       "      <td>502</td>\n",
       "      <td>France</td>\n",
       "      <td>Female</td>\n",
       "      <td>42</td>\n",
       "      <td>8.0</td>\n",
       "      <td>159660.80</td>\n",
       "      <td>3</td>\n",
       "      <td>1</td>\n",
       "      <td>0</td>\n",
       "      <td>113931.57</td>\n",
       "      <td>1</td>\n",
       "    </tr>\n",
       "    <tr>\n",
       "      <th>3</th>\n",
       "      <td>4</td>\n",
       "      <td>15701354</td>\n",
       "      <td>Boni</td>\n",
       "      <td>699</td>\n",
       "      <td>France</td>\n",
       "      <td>Female</td>\n",
       "      <td>39</td>\n",
       "      <td>1.0</td>\n",
       "      <td>0.00</td>\n",
       "      <td>2</td>\n",
       "      <td>0</td>\n",
       "      <td>0</td>\n",
       "      <td>93826.63</td>\n",
       "      <td>0</td>\n",
       "    </tr>\n",
       "    <tr>\n",
       "      <th>4</th>\n",
       "      <td>5</td>\n",
       "      <td>15737888</td>\n",
       "      <td>Mitchell</td>\n",
       "      <td>850</td>\n",
       "      <td>Spain</td>\n",
       "      <td>Female</td>\n",
       "      <td>43</td>\n",
       "      <td>2.0</td>\n",
       "      <td>125510.82</td>\n",
       "      <td>1</td>\n",
       "      <td>1</td>\n",
       "      <td>1</td>\n",
       "      <td>79084.10</td>\n",
       "      <td>0</td>\n",
       "    </tr>\n",
       "  </tbody>\n",
       "</table>\n",
       "</div>"
      ],
      "text/plain": [
       "   RowNumber  CustomerId   Surname  CreditScore Geography  Gender  Age  \\\n",
       "0          1    15634602  Hargrave          619    France  Female   42   \n",
       "1          2    15647311      Hill          608     Spain  Female   41   \n",
       "2          3    15619304      Onio          502    France  Female   42   \n",
       "3          4    15701354      Boni          699    France  Female   39   \n",
       "4          5    15737888  Mitchell          850     Spain  Female   43   \n",
       "\n",
       "   Tenure    Balance  NumOfProducts  HasCrCard  IsActiveMember  \\\n",
       "0     2.0       0.00              1          1               1   \n",
       "1     1.0   83807.86              1          0               1   \n",
       "2     8.0  159660.80              3          1               0   \n",
       "3     1.0       0.00              2          0               0   \n",
       "4     2.0  125510.82              1          1               1   \n",
       "\n",
       "   EstimatedSalary  Exited  \n",
       "0        101348.88       1  \n",
       "1        112542.58       0  \n",
       "2        113931.57       1  \n",
       "3         93826.63       0  \n",
       "4         79084.10       0  "
      ]
     },
     "execution_count": 4,
     "metadata": {},
     "output_type": "execute_result"
    }
   ],
   "source": [
    "churn.head(5)"
   ]
  },
  {
   "cell_type": "markdown",
   "id": "506d3dad",
   "metadata": {
    "id": "506d3dad"
   },
   "source": [
    "## Observation\n",
    "\n",
    "There are 13 columns with 10,000 rows data in general.\n",
    "\n",
    "First glance of the data is that:\n",
    "- Columns are in capital letters\n",
    "- There are missing values in tenure column\n",
    "\n",
    "To tackle the above:\n",
    "- Will first convert all column names to lower case and study more on tenure column\n",
    "- Tenure column represents the years for customer's fixed deposits. Therefore, will investigate the tenure and see what to replace the missing value\n",
    "\n",
    "Afterwards, will see if there is duplicate"
   ]
  },
  {
   "cell_type": "code",
   "execution_count": 5,
   "id": "ec0fd2be",
   "metadata": {
    "id": "ec0fd2be",
    "outputId": "f3658285-93be-42b5-c70e-460b7df91b1f"
   },
   "outputs": [
    {
     "data": {
      "text/html": [
       "<div>\n",
       "<style scoped>\n",
       "    .dataframe tbody tr th:only-of-type {\n",
       "        vertical-align: middle;\n",
       "    }\n",
       "\n",
       "    .dataframe tbody tr th {\n",
       "        vertical-align: top;\n",
       "    }\n",
       "\n",
       "    .dataframe thead th {\n",
       "        text-align: right;\n",
       "    }\n",
       "</style>\n",
       "<table border=\"1\" class=\"dataframe\">\n",
       "  <thead>\n",
       "    <tr style=\"text-align: right;\">\n",
       "      <th></th>\n",
       "      <th>rownumber</th>\n",
       "      <th>customerid</th>\n",
       "      <th>surname</th>\n",
       "      <th>creditscore</th>\n",
       "      <th>geography</th>\n",
       "      <th>gender</th>\n",
       "      <th>age</th>\n",
       "      <th>tenure</th>\n",
       "      <th>balance</th>\n",
       "      <th>numofproducts</th>\n",
       "      <th>hascrcard</th>\n",
       "      <th>isactivemember</th>\n",
       "      <th>estimatedsalary</th>\n",
       "      <th>exited</th>\n",
       "    </tr>\n",
       "  </thead>\n",
       "  <tbody>\n",
       "    <tr>\n",
       "      <th>0</th>\n",
       "      <td>1</td>\n",
       "      <td>15634602</td>\n",
       "      <td>Hargrave</td>\n",
       "      <td>619</td>\n",
       "      <td>France</td>\n",
       "      <td>Female</td>\n",
       "      <td>42</td>\n",
       "      <td>2.0</td>\n",
       "      <td>0.00</td>\n",
       "      <td>1</td>\n",
       "      <td>1</td>\n",
       "      <td>1</td>\n",
       "      <td>101348.88</td>\n",
       "      <td>1</td>\n",
       "    </tr>\n",
       "    <tr>\n",
       "      <th>1</th>\n",
       "      <td>2</td>\n",
       "      <td>15647311</td>\n",
       "      <td>Hill</td>\n",
       "      <td>608</td>\n",
       "      <td>Spain</td>\n",
       "      <td>Female</td>\n",
       "      <td>41</td>\n",
       "      <td>1.0</td>\n",
       "      <td>83807.86</td>\n",
       "      <td>1</td>\n",
       "      <td>0</td>\n",
       "      <td>1</td>\n",
       "      <td>112542.58</td>\n",
       "      <td>0</td>\n",
       "    </tr>\n",
       "    <tr>\n",
       "      <th>2</th>\n",
       "      <td>3</td>\n",
       "      <td>15619304</td>\n",
       "      <td>Onio</td>\n",
       "      <td>502</td>\n",
       "      <td>France</td>\n",
       "      <td>Female</td>\n",
       "      <td>42</td>\n",
       "      <td>8.0</td>\n",
       "      <td>159660.80</td>\n",
       "      <td>3</td>\n",
       "      <td>1</td>\n",
       "      <td>0</td>\n",
       "      <td>113931.57</td>\n",
       "      <td>1</td>\n",
       "    </tr>\n",
       "    <tr>\n",
       "      <th>3</th>\n",
       "      <td>4</td>\n",
       "      <td>15701354</td>\n",
       "      <td>Boni</td>\n",
       "      <td>699</td>\n",
       "      <td>France</td>\n",
       "      <td>Female</td>\n",
       "      <td>39</td>\n",
       "      <td>1.0</td>\n",
       "      <td>0.00</td>\n",
       "      <td>2</td>\n",
       "      <td>0</td>\n",
       "      <td>0</td>\n",
       "      <td>93826.63</td>\n",
       "      <td>0</td>\n",
       "    </tr>\n",
       "    <tr>\n",
       "      <th>4</th>\n",
       "      <td>5</td>\n",
       "      <td>15737888</td>\n",
       "      <td>Mitchell</td>\n",
       "      <td>850</td>\n",
       "      <td>Spain</td>\n",
       "      <td>Female</td>\n",
       "      <td>43</td>\n",
       "      <td>2.0</td>\n",
       "      <td>125510.82</td>\n",
       "      <td>1</td>\n",
       "      <td>1</td>\n",
       "      <td>1</td>\n",
       "      <td>79084.10</td>\n",
       "      <td>0</td>\n",
       "    </tr>\n",
       "    <tr>\n",
       "      <th>...</th>\n",
       "      <td>...</td>\n",
       "      <td>...</td>\n",
       "      <td>...</td>\n",
       "      <td>...</td>\n",
       "      <td>...</td>\n",
       "      <td>...</td>\n",
       "      <td>...</td>\n",
       "      <td>...</td>\n",
       "      <td>...</td>\n",
       "      <td>...</td>\n",
       "      <td>...</td>\n",
       "      <td>...</td>\n",
       "      <td>...</td>\n",
       "      <td>...</td>\n",
       "    </tr>\n",
       "    <tr>\n",
       "      <th>9995</th>\n",
       "      <td>9996</td>\n",
       "      <td>15606229</td>\n",
       "      <td>Obijiaku</td>\n",
       "      <td>771</td>\n",
       "      <td>France</td>\n",
       "      <td>Male</td>\n",
       "      <td>39</td>\n",
       "      <td>5.0</td>\n",
       "      <td>0.00</td>\n",
       "      <td>2</td>\n",
       "      <td>1</td>\n",
       "      <td>0</td>\n",
       "      <td>96270.64</td>\n",
       "      <td>0</td>\n",
       "    </tr>\n",
       "    <tr>\n",
       "      <th>9996</th>\n",
       "      <td>9997</td>\n",
       "      <td>15569892</td>\n",
       "      <td>Johnstone</td>\n",
       "      <td>516</td>\n",
       "      <td>France</td>\n",
       "      <td>Male</td>\n",
       "      <td>35</td>\n",
       "      <td>10.0</td>\n",
       "      <td>57369.61</td>\n",
       "      <td>1</td>\n",
       "      <td>1</td>\n",
       "      <td>1</td>\n",
       "      <td>101699.77</td>\n",
       "      <td>0</td>\n",
       "    </tr>\n",
       "    <tr>\n",
       "      <th>9997</th>\n",
       "      <td>9998</td>\n",
       "      <td>15584532</td>\n",
       "      <td>Liu</td>\n",
       "      <td>709</td>\n",
       "      <td>France</td>\n",
       "      <td>Female</td>\n",
       "      <td>36</td>\n",
       "      <td>7.0</td>\n",
       "      <td>0.00</td>\n",
       "      <td>1</td>\n",
       "      <td>0</td>\n",
       "      <td>1</td>\n",
       "      <td>42085.58</td>\n",
       "      <td>1</td>\n",
       "    </tr>\n",
       "    <tr>\n",
       "      <th>9998</th>\n",
       "      <td>9999</td>\n",
       "      <td>15682355</td>\n",
       "      <td>Sabbatini</td>\n",
       "      <td>772</td>\n",
       "      <td>Germany</td>\n",
       "      <td>Male</td>\n",
       "      <td>42</td>\n",
       "      <td>3.0</td>\n",
       "      <td>75075.31</td>\n",
       "      <td>2</td>\n",
       "      <td>1</td>\n",
       "      <td>0</td>\n",
       "      <td>92888.52</td>\n",
       "      <td>1</td>\n",
       "    </tr>\n",
       "    <tr>\n",
       "      <th>9999</th>\n",
       "      <td>10000</td>\n",
       "      <td>15628319</td>\n",
       "      <td>Walker</td>\n",
       "      <td>792</td>\n",
       "      <td>France</td>\n",
       "      <td>Female</td>\n",
       "      <td>28</td>\n",
       "      <td>NaN</td>\n",
       "      <td>130142.79</td>\n",
       "      <td>1</td>\n",
       "      <td>1</td>\n",
       "      <td>0</td>\n",
       "      <td>38190.78</td>\n",
       "      <td>0</td>\n",
       "    </tr>\n",
       "  </tbody>\n",
       "</table>\n",
       "<p>10000 rows × 14 columns</p>\n",
       "</div>"
      ],
      "text/plain": [
       "      rownumber  customerid    surname  creditscore geography  gender  age  \\\n",
       "0             1    15634602   Hargrave          619    France  Female   42   \n",
       "1             2    15647311       Hill          608     Spain  Female   41   \n",
       "2             3    15619304       Onio          502    France  Female   42   \n",
       "3             4    15701354       Boni          699    France  Female   39   \n",
       "4             5    15737888   Mitchell          850     Spain  Female   43   \n",
       "...         ...         ...        ...          ...       ...     ...  ...   \n",
       "9995       9996    15606229   Obijiaku          771    France    Male   39   \n",
       "9996       9997    15569892  Johnstone          516    France    Male   35   \n",
       "9997       9998    15584532        Liu          709    France  Female   36   \n",
       "9998       9999    15682355  Sabbatini          772   Germany    Male   42   \n",
       "9999      10000    15628319     Walker          792    France  Female   28   \n",
       "\n",
       "      tenure    balance  numofproducts  hascrcard  isactivemember  \\\n",
       "0        2.0       0.00              1          1               1   \n",
       "1        1.0   83807.86              1          0               1   \n",
       "2        8.0  159660.80              3          1               0   \n",
       "3        1.0       0.00              2          0               0   \n",
       "4        2.0  125510.82              1          1               1   \n",
       "...      ...        ...            ...        ...             ...   \n",
       "9995     5.0       0.00              2          1               0   \n",
       "9996    10.0   57369.61              1          1               1   \n",
       "9997     7.0       0.00              1          0               1   \n",
       "9998     3.0   75075.31              2          1               0   \n",
       "9999     NaN  130142.79              1          1               0   \n",
       "\n",
       "      estimatedsalary  exited  \n",
       "0           101348.88       1  \n",
       "1           112542.58       0  \n",
       "2           113931.57       1  \n",
       "3            93826.63       0  \n",
       "4            79084.10       0  \n",
       "...               ...     ...  \n",
       "9995         96270.64       0  \n",
       "9996        101699.77       0  \n",
       "9997         42085.58       1  \n",
       "9998         92888.52       1  \n",
       "9999         38190.78       0  \n",
       "\n",
       "[10000 rows x 14 columns]"
      ]
     },
     "execution_count": 5,
     "metadata": {},
     "output_type": "execute_result"
    }
   ],
   "source": [
    "# Convert columns to lower case\n",
    "\n",
    "churn.columns = churn.columns.str.lower()\n",
    "\n",
    "churn"
   ]
  },
  {
   "cell_type": "code",
   "execution_count": 6,
   "id": "612fb9dd",
   "metadata": {
    "id": "612fb9dd",
    "outputId": "510e074a-d3f9-44e3-c178-a95f6842a7e6",
    "scrolled": false
   },
   "outputs": [
    {
     "data": {
      "text/plain": [
       "tenure\n",
       "1.0     0.0952\n",
       "2.0     0.0950\n",
       "8.0     0.0933\n",
       "3.0     0.0928\n",
       "5.0     0.0927\n",
       "7.0     0.0925\n",
       "NaN     0.0909\n",
       "4.0     0.0885\n",
       "9.0     0.0882\n",
       "6.0     0.0881\n",
       "10.0    0.0446\n",
       "0.0     0.0382\n",
       "Name: proportion, dtype: float64"
      ]
     },
     "execution_count": 6,
     "metadata": {},
     "output_type": "execute_result"
    }
   ],
   "source": [
    "# Understanding the tenure column\n",
    "\n",
    "churn['tenure'].value_counts(normalize=True, dropna=False)"
   ]
  },
  {
   "cell_type": "code",
   "execution_count": 7,
   "id": "878afd92",
   "metadata": {
    "id": "878afd92",
    "outputId": "28d7fe00-7ed7-419e-a6c2-38a280ff2019"
   },
   "outputs": [
    {
     "data": {
      "text/plain": [
       "<Axes: ylabel='Frequency'>"
      ]
     },
     "execution_count": 7,
     "metadata": {},
     "output_type": "execute_result"
    },
    {
     "data": {
      "image/png": "[encoded data removed]",
      "text/plain": [
       "<Figure size 640x480 with 1 Axes>"
      ]
     },
     "metadata": {},
     "output_type": "display_data"
    }
   ],
   "source": [
    "# Observing data distribution of tenure column\n",
    "\n",
    "churn['tenure'].plot(kind='hist', bins=20)"
   ]
  },
  {
   "cell_type": "markdown",
   "id": "8f1f33f9",
   "metadata": {
    "id": "8f1f33f9"
   },
   "source": [
    "## Observation\n",
    "\n",
    "Since there are 9% of missing values of the entire tenure column, this is too larget to simply drop the rows.\n",
    "\n",
    "Assuming rows with null data means the customers never had fixed deposit with the bank, maybe we could assign missing values as 0. However, there are 3% of rows with 0 year tenure. That leads me thinking that since tenure column is in the unit of 'Year', there could be short term deposits 3 months then it may be 0 year. Therefore, I do not think we can assign the missing values with 0.\n",
    "\n",
    "Then I thought of assigning with -1 but I do not think it is appropriate because the tenure may potentially be a feature to train our model with. If I assign it to -1 then it may lead the model to think the customers have negative amount of time for fixed deposit and lead to wrong learning of the model.\n",
    "\n",
    "With the chart above, the distribution of tenure column data looks quite evenly distributed.\n",
    "\n",
    "Therefore, I think it will be best to fill the null with median so it will not introduce any bias into the model"
   ]
  },
  {
   "cell_type": "code",
   "execution_count": 8,
   "id": "82484230",
   "metadata": {
    "id": "82484230",
    "outputId": "f657865c-0b08-4af6-e878-57170b392f00"
   },
   "outputs": [
    {
     "data": {
      "text/plain": [
       "5.0"
      ]
     },
     "execution_count": 8,
     "metadata": {},
     "output_type": "execute_result"
    }
   ],
   "source": [
    "churn['tenure'].median()"
   ]
  },
  {
   "cell_type": "code",
   "execution_count": 9,
   "id": "5db61d71",
   "metadata": {
    "id": "5db61d71",
    "outputId": "fd37a434-456c-4921-b995-deceba729f8b"
   },
   "outputs": [
    {
     "name": "stdout",
     "output_type": "stream",
     "text": [
      "<class 'pandas.core.frame.DataFrame'>\n",
      "RangeIndex: 10000 entries, 0 to 9999\n",
      "Data columns (total 14 columns):\n",
      " #   Column           Non-Null Count  Dtype  \n",
      "---  ------           --------------  -----  \n",
      " 0   rownumber        10000 non-null  int64  \n",
      " 1   customerid       10000 non-null  int64  \n",
      " 2   surname          10000 non-null  object \n",
      " 3   creditscore      10000 non-null  int64  \n",
      " 4   geography        10000 non-null  object \n",
      " 5   gender           10000 non-null  object \n",
      " 6   age              10000 non-null  int64  \n",
      " 7   tenure           10000 non-null  float64\n",
      " 8   balance          10000 non-null  float64\n",
      " 9   numofproducts    10000 non-null  int64  \n",
      " 10  hascrcard        10000 non-null  int64  \n",
      " 11  isactivemember   10000 non-null  int64  \n",
      " 12  estimatedsalary  10000 non-null  float64\n",
      " 13  exited           10000 non-null  int64  \n",
      "dtypes: float64(3), int64(8), object(3)\n",
      "memory usage: 1.1+ MB\n"
     ]
    }
   ],
   "source": [
    "# Filling in missing value for tenure\n",
    "\n",
    "churn['tenure'] = churn['tenure'].fillna(churn['tenure'].median())\n",
    "churn.info()"
   ]
  },
  {
   "cell_type": "code",
   "execution_count": 10,
   "id": "1eb61a8d",
   "metadata": {
    "id": "1eb61a8d",
    "outputId": "f0151934-a7e5-468b-bd02-06cee5d235fe"
   },
   "outputs": [
    {
     "name": "stdout",
     "output_type": "stream",
     "text": [
      "0\n"
     ]
    }
   ],
   "source": [
    "#Check if there is duplicates in the data\n",
    "\n",
    "print(churn.duplicated().sum())"
   ]
  },
  {
   "cell_type": "markdown",
   "id": "a70c5b73",
   "metadata": {
    "id": "a70c5b73"
   },
   "source": [
    "Column names are updated to lower case, missing values are filled in tenure column and checked that there is no duplicate of data. The data is ready for further processing."
   ]
  },
  {
   "cell_type": "markdown",
   "id": "64efb500",
   "metadata": {
    "id": "64efb500"
   },
   "source": [
    "# Preparing data"
   ]
  },
  {
   "cell_type": "markdown",
   "id": "98ecbc55",
   "metadata": {
    "id": "98ecbc55"
   },
   "source": [
    "The data has 13 columns and I will drop 3 columns `rownumber`, `customerid`, and `surname` as they are likely not predictive of customer churn."
   ]
  },
  {
   "cell_type": "code",
   "execution_count": 11,
   "id": "33fd6ea4",
   "metadata": {
    "id": "33fd6ea4"
   },
   "outputs": [],
   "source": [
    "churn = churn.drop(['rownumber','customerid','surname'], axis=1)"
   ]
  },
  {
   "cell_type": "code",
   "execution_count": 12,
   "id": "425db95d",
   "metadata": {
    "id": "425db95d",
    "outputId": "21081b47-c75c-4145-fea4-0b4088731f95"
   },
   "outputs": [
    {
     "data": {
      "text/html": [
       "<div>\n",
       "<style scoped>\n",
       "    .dataframe tbody tr th:only-of-type {\n",
       "        vertical-align: middle;\n",
       "    }\n",
       "\n",
       "    .dataframe tbody tr th {\n",
       "        vertical-align: top;\n",
       "    }\n",
       "\n",
       "    .dataframe thead th {\n",
       "        text-align: right;\n",
       "    }\n",
       "</style>\n",
       "<table border=\"1\" class=\"dataframe\">\n",
       "  <thead>\n",
       "    <tr style=\"text-align: right;\">\n",
       "      <th></th>\n",
       "      <th>creditscore</th>\n",
       "      <th>geography</th>\n",
       "      <th>gender</th>\n",
       "      <th>age</th>\n",
       "      <th>tenure</th>\n",
       "      <th>balance</th>\n",
       "      <th>numofproducts</th>\n",
       "      <th>hascrcard</th>\n",
       "      <th>isactivemember</th>\n",
       "      <th>estimatedsalary</th>\n",
       "      <th>exited</th>\n",
       "    </tr>\n",
       "  </thead>\n",
       "  <tbody>\n",
       "    <tr>\n",
       "      <th>0</th>\n",
       "      <td>619</td>\n",
       "      <td>France</td>\n",
       "      <td>Female</td>\n",
       "      <td>42</td>\n",
       "      <td>2.0</td>\n",
       "      <td>0.00</td>\n",
       "      <td>1</td>\n",
       "      <td>1</td>\n",
       "      <td>1</td>\n",
       "      <td>101348.88</td>\n",
       "      <td>1</td>\n",
       "    </tr>\n",
       "    <tr>\n",
       "      <th>1</th>\n",
       "      <td>608</td>\n",
       "      <td>Spain</td>\n",
       "      <td>Female</td>\n",
       "      <td>41</td>\n",
       "      <td>1.0</td>\n",
       "      <td>83807.86</td>\n",
       "      <td>1</td>\n",
       "      <td>0</td>\n",
       "      <td>1</td>\n",
       "      <td>112542.58</td>\n",
       "      <td>0</td>\n",
       "    </tr>\n",
       "    <tr>\n",
       "      <th>2</th>\n",
       "      <td>502</td>\n",
       "      <td>France</td>\n",
       "      <td>Female</td>\n",
       "      <td>42</td>\n",
       "      <td>8.0</td>\n",
       "      <td>159660.80</td>\n",
       "      <td>3</td>\n",
       "      <td>1</td>\n",
       "      <td>0</td>\n",
       "      <td>113931.57</td>\n",
       "      <td>1</td>\n",
       "    </tr>\n",
       "    <tr>\n",
       "      <th>3</th>\n",
       "      <td>699</td>\n",
       "      <td>France</td>\n",
       "      <td>Female</td>\n",
       "      <td>39</td>\n",
       "      <td>1.0</td>\n",
       "      <td>0.00</td>\n",
       "      <td>2</td>\n",
       "      <td>0</td>\n",
       "      <td>0</td>\n",
       "      <td>93826.63</td>\n",
       "      <td>0</td>\n",
       "    </tr>\n",
       "    <tr>\n",
       "      <th>4</th>\n",
       "      <td>850</td>\n",
       "      <td>Spain</td>\n",
       "      <td>Female</td>\n",
       "      <td>43</td>\n",
       "      <td>2.0</td>\n",
       "      <td>125510.82</td>\n",
       "      <td>1</td>\n",
       "      <td>1</td>\n",
       "      <td>1</td>\n",
       "      <td>79084.10</td>\n",
       "      <td>0</td>\n",
       "    </tr>\n",
       "  </tbody>\n",
       "</table>\n",
       "</div>"
      ],
      "text/plain": [
       "   creditscore geography  gender  age  tenure    balance  numofproducts  \\\n",
       "0          619    France  Female   42     2.0       0.00              1   \n",
       "1          608     Spain  Female   41     1.0   83807.86              1   \n",
       "2          502    France  Female   42     8.0  159660.80              3   \n",
       "3          699    France  Female   39     1.0       0.00              2   \n",
       "4          850     Spain  Female   43     2.0  125510.82              1   \n",
       "\n",
       "   hascrcard  isactivemember  estimatedsalary  exited  \n",
       "0          1               1        101348.88       1  \n",
       "1          0               1        112542.58       0  \n",
       "2          1               0        113931.57       1  \n",
       "3          0               0         93826.63       0  \n",
       "4          1               1         79084.10       0  "
      ]
     },
     "execution_count": 12,
     "metadata": {},
     "output_type": "execute_result"
    }
   ],
   "source": [
    "churn.head()"
   ]
  },
  {
   "cell_type": "markdown",
   "id": "848100aa",
   "metadata": {
    "id": "848100aa"
   },
   "source": [
    "There are 2 categorical features within the dataset. They are `gender` and `geography` and we will use one hot encoding to transform the data.\n"
   ]
  },
  {
   "cell_type": "code",
   "execution_count": 13,
   "id": "0c1d984e",
   "metadata": {
    "id": "0c1d984e",
    "outputId": "4f8858a3-980d-49b5-ee91-13c145a04420"
   },
   "outputs": [
    {
     "data": {
      "text/html": [
       "<div>\n",
       "<style scoped>\n",
       "    .dataframe tbody tr th:only-of-type {\n",
       "        vertical-align: middle;\n",
       "    }\n",
       "\n",
       "    .dataframe tbody tr th {\n",
       "        vertical-align: top;\n",
       "    }\n",
       "\n",
       "    .dataframe thead th {\n",
       "        text-align: right;\n",
       "    }\n",
       "</style>\n",
       "<table border=\"1\" class=\"dataframe\">\n",
       "  <thead>\n",
       "    <tr style=\"text-align: right;\">\n",
       "      <th></th>\n",
       "      <th>creditscore</th>\n",
       "      <th>age</th>\n",
       "      <th>tenure</th>\n",
       "      <th>balance</th>\n",
       "      <th>numofproducts</th>\n",
       "      <th>hascrcard</th>\n",
       "      <th>isactivemember</th>\n",
       "      <th>estimatedsalary</th>\n",
       "      <th>exited</th>\n",
       "      <th>geography_Germany</th>\n",
       "      <th>geography_Spain</th>\n",
       "      <th>gender_Male</th>\n",
       "    </tr>\n",
       "  </thead>\n",
       "  <tbody>\n",
       "    <tr>\n",
       "      <th>0</th>\n",
       "      <td>619</td>\n",
       "      <td>42</td>\n",
       "      <td>2.0</td>\n",
       "      <td>0.00</td>\n",
       "      <td>1</td>\n",
       "      <td>1</td>\n",
       "      <td>1</td>\n",
       "      <td>101348.88</td>\n",
       "      <td>1</td>\n",
       "      <td>False</td>\n",
       "      <td>False</td>\n",
       "      <td>False</td>\n",
       "    </tr>\n",
       "    <tr>\n",
       "      <th>1</th>\n",
       "      <td>608</td>\n",
       "      <td>41</td>\n",
       "      <td>1.0</td>\n",
       "      <td>83807.86</td>\n",
       "      <td>1</td>\n",
       "      <td>0</td>\n",
       "      <td>1</td>\n",
       "      <td>112542.58</td>\n",
       "      <td>0</td>\n",
       "      <td>False</td>\n",
       "      <td>True</td>\n",
       "      <td>False</td>\n",
       "    </tr>\n",
       "    <tr>\n",
       "      <th>2</th>\n",
       "      <td>502</td>\n",
       "      <td>42</td>\n",
       "      <td>8.0</td>\n",
       "      <td>159660.80</td>\n",
       "      <td>3</td>\n",
       "      <td>1</td>\n",
       "      <td>0</td>\n",
       "      <td>113931.57</td>\n",
       "      <td>1</td>\n",
       "      <td>False</td>\n",
       "      <td>False</td>\n",
       "      <td>False</td>\n",
       "    </tr>\n",
       "    <tr>\n",
       "      <th>3</th>\n",
       "      <td>699</td>\n",
       "      <td>39</td>\n",
       "      <td>1.0</td>\n",
       "      <td>0.00</td>\n",
       "      <td>2</td>\n",
       "      <td>0</td>\n",
       "      <td>0</td>\n",
       "      <td>93826.63</td>\n",
       "      <td>0</td>\n",
       "      <td>False</td>\n",
       "      <td>False</td>\n",
       "      <td>False</td>\n",
       "    </tr>\n",
       "    <tr>\n",
       "      <th>4</th>\n",
       "      <td>850</td>\n",
       "      <td>43</td>\n",
       "      <td>2.0</td>\n",
       "      <td>125510.82</td>\n",
       "      <td>1</td>\n",
       "      <td>1</td>\n",
       "      <td>1</td>\n",
       "      <td>79084.10</td>\n",
       "      <td>0</td>\n",
       "      <td>False</td>\n",
       "      <td>True</td>\n",
       "      <td>False</td>\n",
       "    </tr>\n",
       "  </tbody>\n",
       "</table>\n",
       "</div>"
      ],
      "text/plain": [
       "   creditscore  age  tenure    balance  numofproducts  hascrcard  \\\n",
       "0          619   42     2.0       0.00              1          1   \n",
       "1          608   41     1.0   83807.86              1          0   \n",
       "2          502   42     8.0  159660.80              3          1   \n",
       "3          699   39     1.0       0.00              2          0   \n",
       "4          850   43     2.0  125510.82              1          1   \n",
       "\n",
       "   isactivemember  estimatedsalary  exited  geography_Germany  \\\n",
       "0               1        101348.88       1              False   \n",
       "1               1        112542.58       0              False   \n",
       "2               0        113931.57       1              False   \n",
       "3               0         93826.63       0              False   \n",
       "4               1         79084.10       0              False   \n",
       "\n",
       "   geography_Spain  gender_Male  \n",
       "0            False        False  \n",
       "1             True        False  \n",
       "2            False        False  \n",
       "3            False        False  \n",
       "4             True        False  "
      ]
     },
     "execution_count": 13,
     "metadata": {},
     "output_type": "execute_result"
    }
   ],
   "source": [
    "# Use One Hot Encoding to tranform gender column into numerical features\n",
    "\n",
    "churn_ohe = pd.get_dummies(churn, drop_first=True)\n",
    "churn_ohe.head()"
   ]
  },
  {
   "cell_type": "markdown",
   "id": "97324150",
   "metadata": {
    "id": "97324150"
   },
   "source": [
    "I will also leverage feature scaling to prepare our data to make sure all features are considered equally important before training the model.\n",
    "\n",
    "For example, the scale between balance and age are very different. However, I do not want the model to place higher importance on balance simply because the values is greater."
   ]
  },
  {
   "cell_type": "code",
   "execution_count": 14,
   "id": "34be9726",
   "metadata": {
    "id": "34be9726"
   },
   "outputs": [],
   "source": [
    "from sklearn.preprocessing import StandardScaler\n",
    "\n",
    "numeric = ['creditscore',\n",
    "           'age',\n",
    "           'tenure',\n",
    "           'balance',\n",
    "           'estimatedsalary']\n",
    "\n",
    "scaler = StandardScaler()\n",
    "scaler.fit(churn_ohe[numeric])\n",
    "churn_ohe[numeric] = scaler.transform(churn_ohe[numeric])"
   ]
  },
  {
   "cell_type": "code",
   "execution_count": 15,
   "id": "22abf51b",
   "metadata": {
    "id": "22abf51b",
    "outputId": "88fa59f8-99d6-471b-b5a9-7cd1e45d9241"
   },
   "outputs": [
    {
     "data": {
      "text/html": [
       "<div>\n",
       "<style scoped>\n",
       "    .dataframe tbody tr th:only-of-type {\n",
       "        vertical-align: middle;\n",
       "    }\n",
       "\n",
       "    .dataframe tbody tr th {\n",
       "        vertical-align: top;\n",
       "    }\n",
       "\n",
       "    .dataframe thead th {\n",
       "        text-align: right;\n",
       "    }\n",
       "</style>\n",
       "<table border=\"1\" class=\"dataframe\">\n",
       "  <thead>\n",
       "    <tr style=\"text-align: right;\">\n",
       "      <th></th>\n",
       "      <th>creditscore</th>\n",
       "      <th>age</th>\n",
       "      <th>tenure</th>\n",
       "      <th>balance</th>\n",
       "      <th>numofproducts</th>\n",
       "      <th>hascrcard</th>\n",
       "      <th>isactivemember</th>\n",
       "      <th>estimatedsalary</th>\n",
       "      <th>exited</th>\n",
       "      <th>geography_Germany</th>\n",
       "      <th>geography_Spain</th>\n",
       "      <th>gender_Male</th>\n",
       "    </tr>\n",
       "  </thead>\n",
       "  <tbody>\n",
       "    <tr>\n",
       "      <th>0</th>\n",
       "      <td>-0.326221</td>\n",
       "      <td>0.293517</td>\n",
       "      <td>-1.086246</td>\n",
       "      <td>-1.225848</td>\n",
       "      <td>1</td>\n",
       "      <td>1</td>\n",
       "      <td>1</td>\n",
       "      <td>0.021886</td>\n",
       "      <td>1</td>\n",
       "      <td>False</td>\n",
       "      <td>False</td>\n",
       "      <td>False</td>\n",
       "    </tr>\n",
       "    <tr>\n",
       "      <th>1</th>\n",
       "      <td>-0.440036</td>\n",
       "      <td>0.198164</td>\n",
       "      <td>-1.448581</td>\n",
       "      <td>0.117350</td>\n",
       "      <td>1</td>\n",
       "      <td>0</td>\n",
       "      <td>1</td>\n",
       "      <td>0.216534</td>\n",
       "      <td>0</td>\n",
       "      <td>False</td>\n",
       "      <td>True</td>\n",
       "      <td>False</td>\n",
       "    </tr>\n",
       "    <tr>\n",
       "      <th>2</th>\n",
       "      <td>-1.536794</td>\n",
       "      <td>0.293517</td>\n",
       "      <td>1.087768</td>\n",
       "      <td>1.333053</td>\n",
       "      <td>3</td>\n",
       "      <td>1</td>\n",
       "      <td>0</td>\n",
       "      <td>0.240687</td>\n",
       "      <td>1</td>\n",
       "      <td>False</td>\n",
       "      <td>False</td>\n",
       "      <td>False</td>\n",
       "    </tr>\n",
       "    <tr>\n",
       "      <th>3</th>\n",
       "      <td>0.501521</td>\n",
       "      <td>0.007457</td>\n",
       "      <td>-1.448581</td>\n",
       "      <td>-1.225848</td>\n",
       "      <td>2</td>\n",
       "      <td>0</td>\n",
       "      <td>0</td>\n",
       "      <td>-0.108918</td>\n",
       "      <td>0</td>\n",
       "      <td>False</td>\n",
       "      <td>False</td>\n",
       "      <td>False</td>\n",
       "    </tr>\n",
       "    <tr>\n",
       "      <th>4</th>\n",
       "      <td>2.063884</td>\n",
       "      <td>0.388871</td>\n",
       "      <td>-1.086246</td>\n",
       "      <td>0.785728</td>\n",
       "      <td>1</td>\n",
       "      <td>1</td>\n",
       "      <td>1</td>\n",
       "      <td>-0.365276</td>\n",
       "      <td>0</td>\n",
       "      <td>False</td>\n",
       "      <td>True</td>\n",
       "      <td>False</td>\n",
       "    </tr>\n",
       "  </tbody>\n",
       "</table>\n",
       "</div>"
      ],
      "text/plain": [
       "   creditscore       age    tenure   balance  numofproducts  hascrcard  \\\n",
       "0    -0.326221  0.293517 -1.086246 -1.225848              1          1   \n",
       "1    -0.440036  0.198164 -1.448581  0.117350              1          0   \n",
       "2    -1.536794  0.293517  1.087768  1.333053              3          1   \n",
       "3     0.501521  0.007457 -1.448581 -1.225848              2          0   \n",
       "4     2.063884  0.388871 -1.086246  0.785728              1          1   \n",
       "\n",
       "   isactivemember  estimatedsalary  exited  geography_Germany  \\\n",
       "0               1         0.021886       1              False   \n",
       "1               1         0.216534       0              False   \n",
       "2               0         0.240687       1              False   \n",
       "3               0        -0.108918       0              False   \n",
       "4               1        -0.365276       0              False   \n",
       "\n",
       "   geography_Spain  gender_Male  \n",
       "0            False        False  \n",
       "1             True        False  \n",
       "2            False        False  \n",
       "3            False        False  \n",
       "4             True        False  "
      ]
     },
     "execution_count": 15,
     "metadata": {},
     "output_type": "execute_result"
    }
   ],
   "source": [
    "churn_ohe.head(5)"
   ]
  },
  {
   "cell_type": "markdown",
   "id": "253fdfc0",
   "metadata": {
    "id": "253fdfc0"
   },
   "source": [
    "Now creating seperate dataset for features and target"
   ]
  },
  {
   "cell_type": "code",
   "execution_count": 16,
   "id": "0f9810cd",
   "metadata": {
    "id": "0f9810cd",
    "scrolled": true
   },
   "outputs": [],
   "source": [
    "# Creating features and target dataset\n",
    "\n",
    "\n",
    "features = churn_ohe.drop(['exited'], axis=1)\n",
    "target = churn_ohe['exited']\n"
   ]
  },
  {
   "cell_type": "markdown",
   "id": "343a93ae",
   "metadata": {
    "id": "343a93ae"
   },
   "source": [
    "# Splitting data"
   ]
  },
  {
   "cell_type": "markdown",
   "id": "7cf99643",
   "metadata": {
    "id": "7cf99643"
   },
   "source": [
    "First, we will solve our imbalance data for `exited` then we will split the data.\n",
    "\n",
    "Since test set does not exist, the source data has to be split into 3 parts: train, validation and test sets. The size of validation set and test set are usually equal.\n",
    "\n",
    "Training data: 60%\n",
    "Validating data: 20%\n",
    "Test data: 20%\n",
    "\n",
    "We will have to set a specific random state value in order to ensure the reproducibility. We want to ensure that the splits remain the same even if the code is executed multiple times."
   ]
  },
  {
   "cell_type": "code",
   "execution_count": 17,
   "id": "18bd329d",
   "metadata": {
    "id": "18bd329d"
   },
   "outputs": [],
   "source": [
    "# Splitting the data into train, validation and test sets\n",
    "\n",
    "# First step, splitting the data into a training set and a test set; 80% training and 20% test\n",
    "\n",
    "# Using stratify parameter to solve imbalance of class\n",
    "\n",
    "features_train, features_test, target_train, target_test = train_test_split(\n",
    "    features, target, test_size=0.2, random_state=12345, stratify=target )\n",
    "\n"
   ]
  },
  {
   "cell_type": "code",
   "execution_count": 18,
   "id": "203660a3",
   "metadata": {
    "id": "203660a3",
    "outputId": "2dc30fb4-2e37-4166-e863-c83639eb968c"
   },
   "outputs": [
    {
     "data": {
      "text/plain": [
       "(6400, 11)"
      ]
     },
     "execution_count": 18,
     "metadata": {},
     "output_type": "execute_result"
    }
   ],
   "source": [
    "#Second step, use the splitted 80% training data and split 20% out for validation set\n",
    "\n",
    "features_train, features_val, target_train, target_val = train_test_split(\n",
    "    features_train, target_train, test_size=0.2, random_state=12345, stratify=target_train )\n",
    "\n",
    "features_train.shape\n"
   ]
  },
  {
   "cell_type": "code",
   "execution_count": 19,
   "id": "2c96002e",
   "metadata": {
    "id": "2c96002e",
    "outputId": "b1936155-590e-4ef0-f02d-13a6936649a1"
   },
   "outputs": [
    {
     "name": "stdout",
     "output_type": "stream",
     "text": [
      "shape of data (6400, 11)\n",
      "shape of data (6400,)\n",
      "shape of data (1600, 11)\n",
      "shape of data (1600,)\n",
      "shape of data (2000, 11)\n",
      "shape of data (2000,)\n"
     ]
    }
   ],
   "source": [
    "test = [features_train, target_train,features_val,target_val,features_test,target_test]\n",
    "\n",
    "for shape in test:\n",
    "    test2 = shape.shape\n",
    "    print(f'shape of data {test2}')\n",
    "\n"
   ]
  },
  {
   "cell_type": "code",
   "execution_count": 20,
   "id": "17f367b6",
   "metadata": {
    "id": "17f367b6",
    "outputId": "33af83c6-52dd-47cf-e0a6-9908e6deb6c0"
   },
   "outputs": [
    {
     "data": {
      "text/plain": [
       "pandas.core.frame.DataFrame"
      ]
     },
     "execution_count": 20,
     "metadata": {},
     "output_type": "execute_result"
    }
   ],
   "source": [
    "type(features_train)"
   ]
  },
  {
   "cell_type": "code",
   "execution_count": 21,
   "id": "967ac260",
   "metadata": {
    "id": "967ac260",
    "outputId": "2fea4872-706a-4cbd-8674-773fff15480e"
   },
   "outputs": [
    {
     "data": {
      "text/plain": [
       "pandas.core.series.Series"
      ]
     },
     "execution_count": 21,
     "metadata": {},
     "output_type": "execute_result"
    }
   ],
   "source": [
    "type(target_train)"
   ]
  },
  {
   "cell_type": "markdown",
   "id": "b0b8bcf0",
   "metadata": {
    "id": "b0b8bcf0"
   },
   "source": [
    "The datasets we have splitted now are:\n",
    "\n",
    "`training`: features_train, target_train\n",
    "\n",
    "`validation`: features_val, target_val\n",
    "\n",
    "`test`: features_test, target_test\n",
    "\n",
    "There are 6400 rows of data in our training set; 1600 rows of data in our validation set, and 2000 rows in our testing data."
   ]
  },
  {
   "cell_type": "markdown",
   "id": "82772e64",
   "metadata": {
    "id": "82772e64"
   },
   "source": [
    "# Imbalanced data check"
   ]
  },
  {
   "cell_type": "code",
   "execution_count": 22,
   "id": "eddb36ca",
   "metadata": {
    "id": "eddb36ca",
    "outputId": "845d9874-e84b-4b93-d311-b79f5f632c74"
   },
   "outputs": [
    {
     "data": {
      "text/plain": [
       "exited\n",
       "0    0.79625\n",
       "1    0.20375\n",
       "Name: proportion, dtype: float64"
      ]
     },
     "execution_count": 22,
     "metadata": {},
     "output_type": "execute_result"
    },
    {
     "data": {
      "image/png": "[encoded data removed]",
      "text/plain": [
       "<Figure size 640x480 with 1 Axes>"
      ]
     },
     "metadata": {},
     "output_type": "display_data"
    }
   ],
   "source": [
    "# Examine if there is an imbalance class of data within exit column\n",
    "\n",
    "target_train.value_counts().plot(kind='bar')\n",
    "target_train.value_counts(normalize=True)"
   ]
  },
  {
   "cell_type": "markdown",
   "id": "46c71dd7",
   "metadata": {
    "id": "46c71dd7"
   },
   "source": [
    "We can see that there is an imbalance of class within our target column, `exited`, in our training data. The number of customers that have <b>not</b> exited is almost 4 times higher than customers that <b>churned</b>.\n",
    "\n",
    "Imbalance of data will make it difficult to train a machine learning model to accurately predict churn because:\n",
    "\n",
    "- model cannot learn to predict the minority class, churn, well\n",
    "- model may only be able to learn simple heuristic; always predict the dominate class, non-churn\n",
    "- minority class will become more important than the majority class because a wrong prediction on the minority class can be more costly\n",
    "\n",
    "Therefore, we will solve the imbalance data by upsampling the minority class. The advantage of upsampling is that there will be no loss of information but may have overfitting problem."
   ]
  },
  {
   "cell_type": "markdown",
   "id": "7afd24c1",
   "metadata": {
    "id": "7afd24c1"
   },
   "source": [
    "# Imbalanced data"
   ]
  },
  {
   "cell_type": "markdown",
   "id": "7e69cfb9",
   "metadata": {
    "id": "7e69cfb9"
   },
   "source": [
    "Our goal is to reach 0.59 F1 score with our models. F1 score is the harmonic means between recall and precision score.\n",
    "The score ranges between 0 to 1 with 1 being the perfect score."
   ]
  },
  {
   "cell_type": "markdown",
   "id": "53410909",
   "metadata": {
    "id": "53410909"
   },
   "source": [
    "### Logistic Regression"
   ]
  },
  {
   "cell_type": "code",
   "execution_count": 23,
   "id": "d2de9a50",
   "metadata": {
    "id": "d2de9a50"
   },
   "outputs": [],
   "source": [
    "from sklearn.metrics import f1_score"
   ]
  },
  {
   "cell_type": "code",
   "execution_count": 24,
   "id": "bb5039ee",
   "metadata": {
    "id": "bb5039ee",
    "outputId": "bb4809af-c9ce-4fcb-a4bc-213a2548bc0a"
   },
   "outputs": [
    {
     "data": {
      "text/html": [
       "<style>#sk-container-id-1 {color: black;background-color: white;}#sk-container-id-1 pre{padding: 0;}#sk-container-id-1 div.sk-toggleable {background-color: white;}#sk-container-id-1 label.sk-toggleable__label {cursor: pointer;display: block;width: 100%;margin-bottom: 0;padding: 0.3em;box-sizing: border-box;text-align: center;}#sk-container-id-1 label.sk-toggleable__label-arrow:before {content: \"▸\";float: left;margin-right: 0.25em;color: #696969;}#sk-container-id-1 label.sk-toggleable__label-arrow:hover:before {color: black;}#sk-container-id-1 div.sk-estimator:hover label.sk-toggleable__label-arrow:before {color: black;}#sk-container-id-1 div.sk-toggleable__content {max-height: 0;max-width: 0;overflow: hidden;text-align: left;background-color: #f0f8ff;}#sk-container-id-1 div.sk-toggleable__content pre {margin: 0.2em;color: black;border-radius: 0.25em;background-color: #f0f8ff;}#sk-container-id-1 input.sk-toggleable__control:checked~div.sk-toggleable__content {max-height: 200px;max-width: 100%;overflow: auto;}#sk-container-id-1 input.sk-toggleable__control:checked~label.sk-toggleable__label-arrow:before {content: \"▾\";}#sk-container-id-1 div.sk-estimator input.sk-toggleable__control:checked~label.sk-toggleable__label {background-color: #d4ebff;}#sk-container-id-1 div.sk-label input.sk-toggleable__control:checked~label.sk-toggleable__label {background-color: #d4ebff;}#sk-container-id-1 input.sk-hidden--visually {border: 0;clip: rect(1px 1px 1px 1px);clip: rect(1px, 1px, 1px, 1px);height: 1px;margin: -1px;overflow: hidden;padding: 0;position: absolute;width: 1px;}#sk-container-id-1 div.sk-estimator {font-family: monospace;background-color: #f0f8ff;border: 1px dotted black;border-radius: 0.25em;box-sizing: border-box;margin-bottom: 0.5em;}#sk-container-id-1 div.sk-estimator:hover {background-color: #d4ebff;}#sk-container-id-1 div.sk-parallel-item::after {content: \"\";width: 100%;border-bottom: 1px solid gray;flex-grow: 1;}#sk-container-id-1 div.sk-label:hover label.sk-toggleable__label {background-color: #d4ebff;}#sk-container-id-1 div.sk-serial::before {content: \"\";position: absolute;border-left: 1px solid gray;box-sizing: border-box;top: 0;bottom: 0;left: 50%;z-index: 0;}#sk-container-id-1 div.sk-serial {display: flex;flex-direction: column;align-items: center;background-color: white;padding-right: 0.2em;padding-left: 0.2em;position: relative;}#sk-container-id-1 div.sk-item {position: relative;z-index: 1;}#sk-container-id-1 div.sk-parallel {display: flex;align-items: stretch;justify-content: center;background-color: white;position: relative;}#sk-container-id-1 div.sk-item::before, #sk-container-id-1 div.sk-parallel-item::before {content: \"\";position: absolute;border-left: 1px solid gray;box-sizing: border-box;top: 0;bottom: 0;left: 50%;z-index: -1;}#sk-container-id-1 div.sk-parallel-item {display: flex;flex-direction: column;z-index: 1;position: relative;background-color: white;}#sk-container-id-1 div.sk-parallel-item:first-child::after {align-self: flex-end;width: 50%;}#sk-container-id-1 div.sk-parallel-item:last-child::after {align-self: flex-start;width: 50%;}#sk-container-id-1 div.sk-parallel-item:only-child::after {width: 0;}#sk-container-id-1 div.sk-dashed-wrapped {border: 1px dashed gray;margin: 0 0.4em 0.5em 0.4em;box-sizing: border-box;padding-bottom: 0.4em;background-color: white;}#sk-container-id-1 div.sk-label label {font-family: monospace;font-weight: bold;display: inline-block;line-height: 1.2em;}#sk-container-id-1 div.sk-label-container {text-align: center;}#sk-container-id-1 div.sk-container {/* jupyter's `normalize.less` sets `[hidden] { display: none; }` but bootstrap.min.css set `[hidden] { display: none !important; }` so we also need the `!important` here to be able to override the default hidden behavior on the sphinx rendered scikit-learn.org. See: https://github.com/scikit-learn/scikit-learn/issues/21755 */display: inline-block !important;position: relative;}#sk-container-id-1 div.sk-text-repr-fallback {display: none;}</style><div id=\"sk-container-id-1\" class=\"sk-top-container\"><div class=\"sk-text-repr-fallback\"><pre>LogisticRegression(random_state=12345, solver=&#x27;liblinear&#x27;)</pre><b>In a Jupyter environment, please rerun this cell to show the HTML representation or trust the notebook. <br />On GitHub, the HTML representation is unable to render, please try loading this page with nbviewer.org.</b></div><div class=\"sk-container\" hidden><div class=\"sk-item\"><div class=\"sk-estimator sk-toggleable\"><input class=\"sk-toggleable__control sk-hidden--visually\" id=\"sk-estimator-id-1\" type=\"checkbox\" checked><label for=\"sk-estimator-id-1\" class=\"sk-toggleable__label sk-toggleable__label-arrow\">LogisticRegression</label><div class=\"sk-toggleable__content\"><pre>LogisticRegression(random_state=12345, solver=&#x27;liblinear&#x27;)</pre></div></div></div></div></div>"
      ],
      "text/plain": [
       "LogisticRegression(random_state=12345, solver='liblinear')"
      ]
     },
     "execution_count": 24,
     "metadata": {},
     "output_type": "execute_result"
    }
   ],
   "source": [
    "# 1st model: logistic regression\n",
    "# Imported above but just fyi: from sklearn.linear_model import LogisticRegression\n",
    "\n",
    "lr_model_imbalanced = LogisticRegression(random_state = 12345, solver='liblinear') #create an empty model\n",
    "lr_model_imbalanced.fit(features_train,target_train) #train the model with training data\n"
   ]
  },
  {
   "cell_type": "markdown",
   "id": "209e528f",
   "metadata": {
    "id": "209e528f"
   },
   "source": [
    "### Random Forest"
   ]
  },
  {
   "cell_type": "code",
   "execution_count": 25,
   "id": "8c4f25eb",
   "metadata": {
    "id": "8c4f25eb",
    "outputId": "29249dd8-6c71-4cca-db0c-9cac816e3143"
   },
   "outputs": [
    {
     "name": "stdout",
     "output_type": "stream",
     "text": [
      "Best random forest hyperparameters are RandomForestClassifier(max_depth=9, n_estimators=9, random_state=12345).\n"
     ]
    }
   ],
   "source": [
    "\n",
    "# Define the hyperparameters to use and their ranges in the param_dist dictionary\n",
    "\n",
    "param_rf = {'n_estimators': np.arange(1,10),\n",
    "              'max_depth': np.arange(1,20)}\n",
    "\n",
    "# Create a random forest classifier\n",
    "rf = RandomForestClassifier(random_state = 12345)\n",
    "\n",
    "# Use grid search to find the best hyperparameters\n",
    "rand_search = GridSearchCV(rf,\n",
    "                            param_grid = param_rf)\n",
    "\n",
    "# Fit grid search to the data\n",
    "rand_search.fit(features_train,target_train)\n",
    "\n",
    "# Storing best random forest hyperparameters\n",
    "best_rf_imbalanced = rand_search.best_estimator_\n",
    "print(f'Best random forest hyperparameters are {best_rf_imbalanced}.')\n"
   ]
  },
  {
   "cell_type": "markdown",
   "id": "6a49a9cd",
   "metadata": {
    "id": "6a49a9cd"
   },
   "source": [
    "### Decision Tree"
   ]
  },
  {
   "cell_type": "code",
   "execution_count": 26,
   "id": "e9515ab1",
   "metadata": {
    "id": "e9515ab1",
    "outputId": "b29c7a0b-2889-4932-b444-474e9cf3d650"
   },
   "outputs": [
    {
     "name": "stdout",
     "output_type": "stream",
     "text": [
      "Best decision tree hyperparameter is DecisionTreeClassifier(max_depth=5, random_state=12345).\n"
     ]
    }
   ],
   "source": [
    "# Define hyperparameter and store in dictionary\n",
    "param_dt = {'max_depth': np.arange(1,20)}\n",
    "\n",
    "# Create decision tree classifier\n",
    "dt = DecisionTreeClassifier(random_state=12345)\n",
    "\n",
    "# User random search to find the best hyperparameters\n",
    "\n",
    "grid_search_dt = GridSearchCV(dt,\n",
    "                                   param_grid = param_dt)\n",
    "\n",
    "# Fit random search to the data\n",
    "grid_search_dt.fit(features_train, target_train)\n",
    "\n",
    "# Storing best decision tree hyperparameters\n",
    "best_dt_imbalanced = grid_search_dt.best_estimator_\n",
    "\n",
    "print(f'Best decision tree hyperparameter is {best_dt_imbalanced}.')"
   ]
  },
  {
   "cell_type": "markdown",
   "id": "369b7b33",
   "metadata": {
    "id": "369b7b33"
   },
   "source": [
    "### Scores from above models"
   ]
  },
  {
   "cell_type": "markdown",
   "id": "9c67a16f",
   "metadata": {
    "id": "9c67a16f"
   },
   "source": [
    "In general, the F1 score is a good measure of accuracy for binary classification problems where both precision and recall are important. However, the ROC AUC score is a better measure of accuracy for binary classification problems where only one of precision or recall is important.\n"
   ]
  },
  {
   "cell_type": "code",
   "execution_count": 27,
   "id": "0f9e04a6",
   "metadata": {
    "id": "0f9e04a6",
    "outputId": "080e552f-3f6c-4173-9b67-85f488f85e94"
   },
   "outputs": [
    {
     "data": {
      "text/plain": [
       "[0.32, 0.56, 0.53]"
      ]
     },
     "execution_count": 27,
     "metadata": {},
     "output_type": "execute_result"
    }
   ],
   "source": [
    "# Store all models above in a variable\n",
    "\n",
    "imbalanced_model = [lr_model_imbalanced, best_rf_imbalanced,best_dt_imbalanced]\n",
    "\n",
    "# Create dataframe to store F1 data for all models\n",
    "imbalanced_table = pd.DataFrame(columns=['Logistic Regression','Random Forest','Decision Tree'])\n",
    "\n",
    "# Create an empty list for F1 score\n",
    "f1_list = []\n",
    "precision_list = []\n",
    "recall_list = []\n",
    "roc_auc_list = []\n",
    "\n",
    "# F1 score for validation set\n",
    "for model in imbalanced_model:\n",
    "    predicted_val = model.predict(features_val)\n",
    "    precision = round(precision_score(target_val,predicted_val),2)\n",
    "    recall = round(recall_score(target_val,predicted_val),2)\n",
    "    f1 = round(f1_score(target_val, predicted_val),2)\n",
    "    probabilities_val = model.predict_proba(features_val)\n",
    "    probabilities_one_val = probabilities_val[:,1]\n",
    "    roc_auc = round(roc_auc_score(target_val,probabilities_one_val),2)\n",
    "    precision_list.append(precision)\n",
    "    recall_list.append (recall)\n",
    "    f1_list.append(f1)\n",
    "    roc_auc_list.append(roc_auc)\n",
    "\n",
    "# Assigning data into table\n",
    "imbalanced_table.loc['precision'] = precision_list\n",
    "imbalanced_table.loc['recall'] = recall_list\n",
    "imbalanced_table.loc['F1'] = f1_list\n",
    "imbalanced_table.loc['roc_auc'] = roc_auc_list\n",
    "\n",
    "imbalanced_table\n",
    "\n",
    "f1_list\n"
   ]
  },
  {
   "cell_type": "markdown",
   "id": "7540e835",
   "metadata": {
    "id": "7540e835"
   },
   "source": [
    "Precision provides the sense of the quality of positive results and recall is % of actual positives that are correctly classified.\n",
    "\n",
    "ROC (receiver operating characteristic)makes it easy to identify the best threshold while AUC helps to decide which classification model is better.\n",
    "\n",
    "Random forrest has higher F1 score and roc_auc score but we are unable to achieve F1 score of 0.59. Therefore, we will keep trying.\n"
   ]
  },
  {
   "cell_type": "markdown",
   "id": "748617fd",
   "metadata": {
    "id": "748617fd"
   },
   "source": [
    "# Random upsampling"
   ]
  },
  {
   "cell_type": "markdown",
   "id": "fb513f85",
   "metadata": {
    "id": "fb513f85"
   },
   "source": [
    "Our first method of handling imbalanced data is upsampling. We will randomly general new samples for the minority until it matches the same size as the majority class."
   ]
  },
  {
   "cell_type": "code",
   "execution_count": 28,
   "id": "761825ed",
   "metadata": {
    "id": "761825ed"
   },
   "outputs": [],
   "source": [
    "# Using imbalanced-learn library to handle imbalanced dataset. Install the library if needed\n",
    "\n",
    "# pip install imbalanced-learn\n",
    "\n",
    "# !pip uninstall scikit-learn --yes\n",
    "# !pip uninstall imblearn --yes\n",
    "# !pip install scikit-learn==1.2.2\n",
    "# !pip install imblearn"
   ]
  },
  {
   "cell_type": "code",
   "execution_count": 29,
   "id": "744b1b67",
   "metadata": {
    "id": "744b1b67"
   },
   "outputs": [],
   "source": [
    "# Upsample the minority class randomly\n",
    "\n",
    "from imblearn.over_sampling import RandomOverSampler\n",
    "\n",
    "ros = RandomOverSampler(random_state=12345)\n",
    "features_train_ros, target_train_ros = ros.fit_resample(features_train, target_train)"
   ]
  },
  {
   "cell_type": "code",
   "execution_count": 30,
   "id": "2dec03f9",
   "metadata": {
    "id": "2dec03f9",
    "outputId": "3cf7c41f-1c1c-4671-90fc-d57175d0663d"
   },
   "outputs": [
    {
     "data": {
      "text/plain": [
       "<Axes: xlabel='exited'>"
      ]
     },
     "execution_count": 30,
     "metadata": {},
     "output_type": "execute_result"
    },
    {
     "data": {
      "image/png": "[encoded data removed]",
      "text/plain": [
       "<Figure size 640x480 with 1 Axes>"
      ]
     },
     "metadata": {},
     "output_type": "display_data"
    }
   ],
   "source": [
    "# Examine the numbers of targer column, exited\n",
    "\n",
    "target_train_ros.value_counts(normalize=True)\n",
    "target_train_ros.value_counts().plot(kind='bar')"
   ]
  },
  {
   "cell_type": "markdown",
   "id": "91b8ca38",
   "metadata": {
    "id": "91b8ca38"
   },
   "source": [
    "We now have a balanced class of data and we will try training our model with balanced data."
   ]
  },
  {
   "cell_type": "markdown",
   "id": "9d75c001",
   "metadata": {
    "id": "9d75c001"
   },
   "source": [
    "### Logistic Regression"
   ]
  },
  {
   "cell_type": "code",
   "execution_count": 31,
   "id": "68772486",
   "metadata": {
    "id": "68772486",
    "outputId": "277b13cf-119d-4a99-de15-a172063dceb4"
   },
   "outputs": [
    {
     "data": {
      "text/html": [
       "<style>#sk-container-id-2 {color: black;background-color: white;}#sk-container-id-2 pre{padding: 0;}#sk-container-id-2 div.sk-toggleable {background-color: white;}#sk-container-id-2 label.sk-toggleable__label {cursor: pointer;display: block;width: 100%;margin-bottom: 0;padding: 0.3em;box-sizing: border-box;text-align: center;}#sk-container-id-2 label.sk-toggleable__label-arrow:before {content: \"▸\";float: left;margin-right: 0.25em;color: #696969;}#sk-container-id-2 label.sk-toggleable__label-arrow:hover:before {color: black;}#sk-container-id-2 div.sk-estimator:hover label.sk-toggleable__label-arrow:before {color: black;}#sk-container-id-2 div.sk-toggleable__content {max-height: 0;max-width: 0;overflow: hidden;text-align: left;background-color: #f0f8ff;}#sk-container-id-2 div.sk-toggleable__content pre {margin: 0.2em;color: black;border-radius: 0.25em;background-color: #f0f8ff;}#sk-container-id-2 input.sk-toggleable__control:checked~div.sk-toggleable__content {max-height: 200px;max-width: 100%;overflow: auto;}#sk-container-id-2 input.sk-toggleable__control:checked~label.sk-toggleable__label-arrow:before {content: \"▾\";}#sk-container-id-2 div.sk-estimator input.sk-toggleable__control:checked~label.sk-toggleable__label {background-color: #d4ebff;}#sk-container-id-2 div.sk-label input.sk-toggleable__control:checked~label.sk-toggleable__label {background-color: #d4ebff;}#sk-container-id-2 input.sk-hidden--visually {border: 0;clip: rect(1px 1px 1px 1px);clip: rect(1px, 1px, 1px, 1px);height: 1px;margin: -1px;overflow: hidden;padding: 0;position: absolute;width: 1px;}#sk-container-id-2 div.sk-estimator {font-family: monospace;background-color: #f0f8ff;border: 1px dotted black;border-radius: 0.25em;box-sizing: border-box;margin-bottom: 0.5em;}#sk-container-id-2 div.sk-estimator:hover {background-color: #d4ebff;}#sk-container-id-2 div.sk-parallel-item::after {content: \"\";width: 100%;border-bottom: 1px solid gray;flex-grow: 1;}#sk-container-id-2 div.sk-label:hover label.sk-toggleable__label {background-color: #d4ebff;}#sk-container-id-2 div.sk-serial::before {content: \"\";position: absolute;border-left: 1px solid gray;box-sizing: border-box;top: 0;bottom: 0;left: 50%;z-index: 0;}#sk-container-id-2 div.sk-serial {display: flex;flex-direction: column;align-items: center;background-color: white;padding-right: 0.2em;padding-left: 0.2em;position: relative;}#sk-container-id-2 div.sk-item {position: relative;z-index: 1;}#sk-container-id-2 div.sk-parallel {display: flex;align-items: stretch;justify-content: center;background-color: white;position: relative;}#sk-container-id-2 div.sk-item::before, #sk-container-id-2 div.sk-parallel-item::before {content: \"\";position: absolute;border-left: 1px solid gray;box-sizing: border-box;top: 0;bottom: 0;left: 50%;z-index: -1;}#sk-container-id-2 div.sk-parallel-item {display: flex;flex-direction: column;z-index: 1;position: relative;background-color: white;}#sk-container-id-2 div.sk-parallel-item:first-child::after {align-self: flex-end;width: 50%;}#sk-container-id-2 div.sk-parallel-item:last-child::after {align-self: flex-start;width: 50%;}#sk-container-id-2 div.sk-parallel-item:only-child::after {width: 0;}#sk-container-id-2 div.sk-dashed-wrapped {border: 1px dashed gray;margin: 0 0.4em 0.5em 0.4em;box-sizing: border-box;padding-bottom: 0.4em;background-color: white;}#sk-container-id-2 div.sk-label label {font-family: monospace;font-weight: bold;display: inline-block;line-height: 1.2em;}#sk-container-id-2 div.sk-label-container {text-align: center;}#sk-container-id-2 div.sk-container {/* jupyter's `normalize.less` sets `[hidden] { display: none; }` but bootstrap.min.css set `[hidden] { display: none !important; }` so we also need the `!important` here to be able to override the default hidden behavior on the sphinx rendered scikit-learn.org. See: https://github.com/scikit-learn/scikit-learn/issues/21755 */display: inline-block !important;position: relative;}#sk-container-id-2 div.sk-text-repr-fallback {display: none;}</style><div id=\"sk-container-id-2\" class=\"sk-top-container\"><div class=\"sk-text-repr-fallback\"><pre>LogisticRegression(random_state=12345, solver=&#x27;liblinear&#x27;)</pre><b>In a Jupyter environment, please rerun this cell to show the HTML representation or trust the notebook. <br />On GitHub, the HTML representation is unable to render, please try loading this page with nbviewer.org.</b></div><div class=\"sk-container\" hidden><div class=\"sk-item\"><div class=\"sk-estimator sk-toggleable\"><input class=\"sk-toggleable__control sk-hidden--visually\" id=\"sk-estimator-id-2\" type=\"checkbox\" checked><label for=\"sk-estimator-id-2\" class=\"sk-toggleable__label sk-toggleable__label-arrow\">LogisticRegression</label><div class=\"sk-toggleable__content\"><pre>LogisticRegression(random_state=12345, solver=&#x27;liblinear&#x27;)</pre></div></div></div></div></div>"
      ],
      "text/plain": [
       "LogisticRegression(random_state=12345, solver='liblinear')"
      ]
     },
     "execution_count": 31,
     "metadata": {},
     "output_type": "execute_result"
    }
   ],
   "source": [
    "# Create an empty model\n",
    "\n",
    "lr_model_upsample = LogisticRegression(random_state=12345, solver='liblinear')\n",
    "\n",
    "# Train the model with balanced data\n",
    "lr_model_upsample.fit(features_train_ros, target_train_ros)"
   ]
  },
  {
   "cell_type": "markdown",
   "id": "a60d1bd1",
   "metadata": {
    "id": "a60d1bd1"
   },
   "source": [
    "### Random Forest"
   ]
  },
  {
   "cell_type": "code",
   "execution_count": 32,
   "id": "a75482f5",
   "metadata": {
    "id": "a75482f5",
    "outputId": "6fa1eb02-1b71-44a2-9f20-40ff5e9dd02a"
   },
   "outputs": [
    {
     "name": "stdout",
     "output_type": "stream",
     "text": [
      " Best hyperparameter for random forest using random upsampling is RandomForestClassifier(max_depth=18, n_estimators=8, random_state=12345)\n"
     ]
    }
   ],
   "source": [
    "# Create dictionary to store hyperparameters\n",
    "\n",
    "param_rf_upsample = {'n_estimators':np.arange(1,10),\n",
    "                      'max_depth': np.arange(1,20)}\n",
    "\n",
    "# Create a random model\n",
    "\n",
    "rf = RandomForestClassifier(random_state=12345)\n",
    "\n",
    "# Use grid search to find best hyperparameter\n",
    "\n",
    "rf_grid_upsample = GridSearchCV(rf, param_grid = param_rf_upsample)\n",
    "\n",
    "# Fit random search\n",
    "\n",
    "rf_grid_upsample.fit(features_train_ros, target_train_ros)\n",
    "\n",
    "# Assign best hyperparameter to a variable\n",
    "\n",
    "best_rf_upsample = rf_grid_upsample.best_estimator_\n",
    "\n",
    "print(f' Best hyperparameter for random forest using random upsampling is {best_rf_upsample}')"
   ]
  },
  {
   "cell_type": "markdown",
   "id": "6821a75f",
   "metadata": {
    "id": "6821a75f"
   },
   "source": [
    "### Decision Tree"
   ]
  },
  {
   "cell_type": "code",
   "execution_count": 33,
   "id": "9e62e3f7",
   "metadata": {
    "id": "9e62e3f7",
    "outputId": "85775fbf-f149-42d9-e800-a7484254fd34"
   },
   "outputs": [
    {
     "name": "stdout",
     "output_type": "stream",
     "text": [
      " Best hyperparameter for decision tree using random upsampling is DecisionTreeClassifier(max_depth=19, random_state=12345)\n"
     ]
    }
   ],
   "source": [
    "# Create dictionary for hyperparametr\n",
    "\n",
    "param_dt_upsample = {'max_depth':np.arange(1,20)}\n",
    "\n",
    "# Create a random decision tree\n",
    "\n",
    "dt = DecisionTreeClassifier(random_state=12345)\n",
    "\n",
    "# Use grid search to find best hyperparameter\n",
    "\n",
    "dt_grid_upsample = RandomizedSearchCV(dt, param_distributions = param_dt_upsample)\n",
    "\n",
    "# Fit grid search\n",
    "\n",
    "dt_grid_upsample.fit(features_train_ros,target_train_ros)\n",
    "\n",
    "# Assign best hyperparameter to a variable\n",
    "\n",
    "best_dt_upsample = dt_grid_upsample.best_estimator_\n",
    "\n",
    "print(f' Best hyperparameter for decision tree using random upsampling is {best_dt_upsample}')\n"
   ]
  },
  {
   "cell_type": "markdown",
   "id": "00218668",
   "metadata": {
    "id": "00218668"
   },
   "source": [
    "### Scores from above models with balanced data using random over sampler"
   ]
  },
  {
   "cell_type": "code",
   "execution_count": 34,
   "id": "1b7dba34",
   "metadata": {
    "id": "1b7dba34",
    "outputId": "3b2714f9-b894-4299-dde1-f9c9a79201af"
   },
   "outputs": [
    {
     "data": {
      "text/html": [
       "<div>\n",
       "<style scoped>\n",
       "    .dataframe tbody tr th:only-of-type {\n",
       "        vertical-align: middle;\n",
       "    }\n",
       "\n",
       "    .dataframe tbody tr th {\n",
       "        vertical-align: top;\n",
       "    }\n",
       "\n",
       "    .dataframe thead th {\n",
       "        text-align: right;\n",
       "    }\n",
       "</style>\n",
       "<table border=\"1\" class=\"dataframe\">\n",
       "  <thead>\n",
       "    <tr style=\"text-align: right;\">\n",
       "      <th></th>\n",
       "      <th>Logistic Regression</th>\n",
       "      <th>Random Forest</th>\n",
       "      <th>Decision Tree</th>\n",
       "    </tr>\n",
       "  </thead>\n",
       "  <tbody>\n",
       "    <tr>\n",
       "      <th>recall</th>\n",
       "      <td>0.71</td>\n",
       "      <td>0.50</td>\n",
       "      <td>0.50</td>\n",
       "    </tr>\n",
       "    <tr>\n",
       "      <th>precision</th>\n",
       "      <td>0.40</td>\n",
       "      <td>0.63</td>\n",
       "      <td>0.46</td>\n",
       "    </tr>\n",
       "    <tr>\n",
       "      <th>f1</th>\n",
       "      <td>0.51</td>\n",
       "      <td>0.56</td>\n",
       "      <td>0.48</td>\n",
       "    </tr>\n",
       "    <tr>\n",
       "      <th>roc_auc</th>\n",
       "      <td>0.79</td>\n",
       "      <td>0.81</td>\n",
       "      <td>0.67</td>\n",
       "    </tr>\n",
       "  </tbody>\n",
       "</table>\n",
       "</div>"
      ],
      "text/plain": [
       "           Logistic Regression  Random Forest  Decision Tree\n",
       "recall                    0.71           0.50           0.50\n",
       "precision                 0.40           0.63           0.46\n",
       "f1                        0.51           0.56           0.48\n",
       "roc_auc                   0.79           0.81           0.67"
      ]
     },
     "execution_count": 34,
     "metadata": {},
     "output_type": "execute_result"
    }
   ],
   "source": [
    "upsample_model = [lr_model_upsample, best_rf_upsample, best_dt_upsample]\n",
    "\n",
    "#Create an empty dataframe with columns\n",
    "\n",
    "upsample_data = pd.DataFrame(columns=['Logistic Regression','Random Forest','Decision Tree'])\n",
    "\n",
    "recall_upsample_list = []\n",
    "precision_upsample_list = []\n",
    "f1_upsample_list = []\n",
    "roc_auc_upsample_list =[]\n",
    "\n",
    "for model in upsample_model:\n",
    "    predictions_val = model.predict(features_val)\n",
    "    recall = round(recall_score(target_val,predictions_val),2)\n",
    "    precision = round(precision_score(target_val,predictions_val),2)\n",
    "    f1 = round(f1_score(target_val, predictions_val),2)\n",
    "    probabilities_val = model.predict_proba(features_val)\n",
    "    probabilities_one_val = probabilities_val[:,1]\n",
    "    roc_auc = round(roc_auc_score(target_val,probabilities_one_val),2)\n",
    "    recall_upsample_list.append(recall)\n",
    "    precision_upsample_list.append(precision)\n",
    "    f1_upsample_list.append(f1)\n",
    "    roc_auc_upsample_list.append(roc_auc)\n",
    "\n",
    "#Adding data to dataframe\n",
    "\n",
    "upsample_data.loc['recall'] = recall_upsample_list\n",
    "upsample_data.loc['precision'] = precision_upsample_list\n",
    "upsample_data.loc['f1'] = f1_upsample_list\n",
    "upsample_data.loc['roc_auc'] = roc_auc_upsample_list\n",
    "\n",
    "upsample_data\n"
   ]
  },
  {
   "cell_type": "markdown",
   "id": "c1bc7485",
   "metadata": {
    "id": "c1bc7485"
   },
   "source": [
    "The F1 score remains the same for random forest but improved for logistic regression and decision tree model. We will keep trying as it has not achieved 0.59 F1 score yet."
   ]
  },
  {
   "cell_type": "markdown",
   "id": "f500187e",
   "metadata": {
    "id": "f500187e"
   },
   "source": [
    "# Class weight adjustment"
   ]
  },
  {
   "cell_type": "markdown",
   "id": "f95d4892",
   "metadata": {
    "id": "f95d4892"
   },
   "source": [
    "Since there are more 0s (non-churn) customers than 1s (churned) customers, we would like the model to place higher weight to the 1s (churned. Therefore, we will use `class_weight` parameter in our model."
   ]
  },
  {
   "cell_type": "markdown",
   "id": "3dfe50d8",
   "metadata": {
    "id": "3dfe50d8"
   },
   "source": [
    "### Logistic Regression"
   ]
  },
  {
   "cell_type": "code",
   "execution_count": 35,
   "id": "d3f38f14",
   "metadata": {
    "id": "d3f38f14",
    "outputId": "9bed4335-b0bd-43ca-c623-acbb8e4e32b9"
   },
   "outputs": [
    {
     "data": {
      "text/html": [
       "<style>#sk-container-id-3 {color: black;background-color: white;}#sk-container-id-3 pre{padding: 0;}#sk-container-id-3 div.sk-toggleable {background-color: white;}#sk-container-id-3 label.sk-toggleable__label {cursor: pointer;display: block;width: 100%;margin-bottom: 0;padding: 0.3em;box-sizing: border-box;text-align: center;}#sk-container-id-3 label.sk-toggleable__label-arrow:before {content: \"▸\";float: left;margin-right: 0.25em;color: #696969;}#sk-container-id-3 label.sk-toggleable__label-arrow:hover:before {color: black;}#sk-container-id-3 div.sk-estimator:hover label.sk-toggleable__label-arrow:before {color: black;}#sk-container-id-3 div.sk-toggleable__content {max-height: 0;max-width: 0;overflow: hidden;text-align: left;background-color: #f0f8ff;}#sk-container-id-3 div.sk-toggleable__content pre {margin: 0.2em;color: black;border-radius: 0.25em;background-color: #f0f8ff;}#sk-container-id-3 input.sk-toggleable__control:checked~div.sk-toggleable__content {max-height: 200px;max-width: 100%;overflow: auto;}#sk-container-id-3 input.sk-toggleable__control:checked~label.sk-toggleable__label-arrow:before {content: \"▾\";}#sk-container-id-3 div.sk-estimator input.sk-toggleable__control:checked~label.sk-toggleable__label {background-color: #d4ebff;}#sk-container-id-3 div.sk-label input.sk-toggleable__control:checked~label.sk-toggleable__label {background-color: #d4ebff;}#sk-container-id-3 input.sk-hidden--visually {border: 0;clip: rect(1px 1px 1px 1px);clip: rect(1px, 1px, 1px, 1px);height: 1px;margin: -1px;overflow: hidden;padding: 0;position: absolute;width: 1px;}#sk-container-id-3 div.sk-estimator {font-family: monospace;background-color: #f0f8ff;border: 1px dotted black;border-radius: 0.25em;box-sizing: border-box;margin-bottom: 0.5em;}#sk-container-id-3 div.sk-estimator:hover {background-color: #d4ebff;}#sk-container-id-3 div.sk-parallel-item::after {content: \"\";width: 100%;border-bottom: 1px solid gray;flex-grow: 1;}#sk-container-id-3 div.sk-label:hover label.sk-toggleable__label {background-color: #d4ebff;}#sk-container-id-3 div.sk-serial::before {content: \"\";position: absolute;border-left: 1px solid gray;box-sizing: border-box;top: 0;bottom: 0;left: 50%;z-index: 0;}#sk-container-id-3 div.sk-serial {display: flex;flex-direction: column;align-items: center;background-color: white;padding-right: 0.2em;padding-left: 0.2em;position: relative;}#sk-container-id-3 div.sk-item {position: relative;z-index: 1;}#sk-container-id-3 div.sk-parallel {display: flex;align-items: stretch;justify-content: center;background-color: white;position: relative;}#sk-container-id-3 div.sk-item::before, #sk-container-id-3 div.sk-parallel-item::before {content: \"\";position: absolute;border-left: 1px solid gray;box-sizing: border-box;top: 0;bottom: 0;left: 50%;z-index: -1;}#sk-container-id-3 div.sk-parallel-item {display: flex;flex-direction: column;z-index: 1;position: relative;background-color: white;}#sk-container-id-3 div.sk-parallel-item:first-child::after {align-self: flex-end;width: 50%;}#sk-container-id-3 div.sk-parallel-item:last-child::after {align-self: flex-start;width: 50%;}#sk-container-id-3 div.sk-parallel-item:only-child::after {width: 0;}#sk-container-id-3 div.sk-dashed-wrapped {border: 1px dashed gray;margin: 0 0.4em 0.5em 0.4em;box-sizing: border-box;padding-bottom: 0.4em;background-color: white;}#sk-container-id-3 div.sk-label label {font-family: monospace;font-weight: bold;display: inline-block;line-height: 1.2em;}#sk-container-id-3 div.sk-label-container {text-align: center;}#sk-container-id-3 div.sk-container {/* jupyter's `normalize.less` sets `[hidden] { display: none; }` but bootstrap.min.css set `[hidden] { display: none !important; }` so we also need the `!important` here to be able to override the default hidden behavior on the sphinx rendered scikit-learn.org. See: https://github.com/scikit-learn/scikit-learn/issues/21755 */display: inline-block !important;position: relative;}#sk-container-id-3 div.sk-text-repr-fallback {display: none;}</style><div id=\"sk-container-id-3\" class=\"sk-top-container\"><div class=\"sk-text-repr-fallback\"><pre>LogisticRegression(class_weight=&#x27;balanced&#x27;, random_state=12345,\n",
       "                   solver=&#x27;liblinear&#x27;)</pre><b>In a Jupyter environment, please rerun this cell to show the HTML representation or trust the notebook. <br />On GitHub, the HTML representation is unable to render, please try loading this page with nbviewer.org.</b></div><div class=\"sk-container\" hidden><div class=\"sk-item\"><div class=\"sk-estimator sk-toggleable\"><input class=\"sk-toggleable__control sk-hidden--visually\" id=\"sk-estimator-id-3\" type=\"checkbox\" checked><label for=\"sk-estimator-id-3\" class=\"sk-toggleable__label sk-toggleable__label-arrow\">LogisticRegression</label><div class=\"sk-toggleable__content\"><pre>LogisticRegression(class_weight=&#x27;balanced&#x27;, random_state=12345,\n",
       "                   solver=&#x27;liblinear&#x27;)</pre></div></div></div></div></div>"
      ],
      "text/plain": [
       "LogisticRegression(class_weight='balanced', random_state=12345,\n",
       "                   solver='liblinear')"
      ]
     },
     "execution_count": 35,
     "metadata": {},
     "output_type": "execute_result"
    }
   ],
   "source": [
    "# Create an empty model\n",
    "\n",
    "lr_model_cw = LogisticRegression(random_state=12345, solver='liblinear', class_weight='balanced')\n",
    "\n",
    "# Train the model\n",
    "\n",
    "lr_model_cw.fit(features_train, target_train)"
   ]
  },
  {
   "cell_type": "markdown",
   "id": "604e9036",
   "metadata": {
    "id": "604e9036"
   },
   "source": [
    "### Random Forest"
   ]
  },
  {
   "cell_type": "code",
   "execution_count": 36,
   "id": "9e455d39",
   "metadata": {
    "id": "9e455d39",
    "outputId": "7757caa3-6ac2-4eb1-bc3a-2d4b227a6827"
   },
   "outputs": [
    {
     "name": "stdout",
     "output_type": "stream",
     "text": [
      " Best hyperparameter for random forest using random upsampling is RandomForestClassifier(class_weight='balanced', max_depth=17, n_estimators=9,\n",
      "                       random_state=12345)\n"
     ]
    }
   ],
   "source": [
    "# Create dictionary for hyperparameter\n",
    "\n",
    "param_rf_cw = {'n_estimators': np.arange(1, 10),\n",
    "               'max_depth': np.arange(1, 20)}\n",
    "\n",
    "# Create random model\n",
    "\n",
    "rf_cw = RandomForestClassifier(random_state=12345, class_weight='balanced')\n",
    "\n",
    "# Use grid search to find best hyperparameter\n",
    "rf_grid_cw = GridSearchCV(rf_cw, param_grid=param_rf_cw)\n",
    "\n",
    "# Fit grid search\n",
    "rf_grid_cw.fit(features_train, target_train)\n",
    "\n",
    "# Assign best grid search to a variable\n",
    "best_rf_cw = rf_grid_cw.best_estimator_\n",
    "\n",
    "print(f' Best hyperparameter for random forest using random upsampling is {best_rf_cw}')"
   ]
  },
  {
   "cell_type": "markdown",
   "id": "76152c6d",
   "metadata": {
    "id": "76152c6d"
   },
   "source": [
    "### Decision Tree"
   ]
  },
  {
   "cell_type": "code",
   "execution_count": 37,
   "id": "a88eea42",
   "metadata": {
    "id": "a88eea42",
    "outputId": "b1bb8bdb-9876-4b0d-8b2c-4884cf1e87b0"
   },
   "outputs": [
    {
     "name": "stdout",
     "output_type": "stream",
     "text": [
      " Best hyperparameter for decision tree using random upsampling is DecisionTreeClassifier(class_weight='balanced', max_depth=19,\n",
      "                       random_state=12345)\n"
     ]
    }
   ],
   "source": [
    "# Create dictionary for hyperparameter\n",
    "\n",
    "param_dt_cw = {'max_depth': np.arange(1,20)}\n",
    "\n",
    "# Create random model\n",
    "\n",
    "dt_cw = DecisionTreeClassifier(random_state=12345, class_weight='balanced')\n",
    "\n",
    "# Find the best hyperparameter using random search\n",
    "\n",
    "dt_grid_cw = GridSearchCV(dt_cw, param_grid = param_dt_cw)\n",
    "\n",
    "# Fit the training data with ramdom search\n",
    "\n",
    "dt_grid_cw.fit(features_train, target_train)\n",
    "\n",
    "# Assign the best hyperparameter\n",
    "\n",
    "best_dt_cw = dt_grid_cw.best_estimator_\n",
    "\n",
    "print(f' Best hyperparameter for decision tree using random upsampling is {best_dt_cw}')"
   ]
  },
  {
   "cell_type": "markdown",
   "id": "a65d7e60",
   "metadata": {
    "id": "a65d7e60"
   },
   "source": [
    "### Scores from above models with balanced data using class weight"
   ]
  },
  {
   "cell_type": "code",
   "execution_count": 38,
   "id": "e1999573",
   "metadata": {
    "id": "e1999573"
   },
   "outputs": [],
   "source": [
    "cw_balanced_models =[lr_model_cw, best_rf_cw, best_dt_cw]\n",
    "\n",
    "def scores (list_of_models):\n",
    "\n",
    "    data = pd.DataFrame(columns=['Logistic Regression','Random Forest','Decision Tree'])\n",
    "\n",
    "    recall_list = []\n",
    "    precision_list = []\n",
    "    f1_list = []\n",
    "    roc_auc_list = []\n",
    "\n",
    "    for models in list_of_models:\n",
    "        predictions_val = models.predict(features_val)\n",
    "        recall = round(recall_score(target_val, predictions_val),2)\n",
    "        recall_list.append(recall)\n",
    "        precision = round(precision_score(target_val, predictions_val),2)\n",
    "        precision_list.append(precision)\n",
    "        f1 = round(f1_score(target_val,predictions_val),2)\n",
    "        f1_list.append(f1)\n",
    "        probabilities_val = models.predict_proba(features_val)\n",
    "        probabilities_one_val = probabilities_val[:,1]\n",
    "        roc_auc = round(roc_auc_score(target_val,probabilities_one_val),2)\n",
    "        roc_auc_list.append(roc_auc)\n",
    "\n",
    "    data.loc['recall']=recall_list\n",
    "    data.loc['precision']=precision_list\n",
    "    data.loc['f1']=f1_list\n",
    "    data.loc['roc_auc']=roc_auc_list\n",
    "    return data\n",
    "\n"
   ]
  },
  {
   "cell_type": "code",
   "execution_count": 39,
   "id": "192fea7b",
   "metadata": {
    "id": "192fea7b",
    "outputId": "43532135-81aa-448b-8d0f-99aacd154b54"
   },
   "outputs": [
    {
     "data": {
      "text/html": [
       "<div>\n",
       "<style scoped>\n",
       "    .dataframe tbody tr th:only-of-type {\n",
       "        vertical-align: middle;\n",
       "    }\n",
       "\n",
       "    .dataframe tbody tr th {\n",
       "        vertical-align: top;\n",
       "    }\n",
       "\n",
       "    .dataframe thead th {\n",
       "        text-align: right;\n",
       "    }\n",
       "</style>\n",
       "<table border=\"1\" class=\"dataframe\">\n",
       "  <thead>\n",
       "    <tr style=\"text-align: right;\">\n",
       "      <th></th>\n",
       "      <th>Logistic Regression</th>\n",
       "      <th>Random Forest</th>\n",
       "      <th>Decision Tree</th>\n",
       "    </tr>\n",
       "  </thead>\n",
       "  <tbody>\n",
       "    <tr>\n",
       "      <th>recall</th>\n",
       "      <td>0.71</td>\n",
       "      <td>0.46</td>\n",
       "      <td>0.51</td>\n",
       "    </tr>\n",
       "    <tr>\n",
       "      <th>precision</th>\n",
       "      <td>0.40</td>\n",
       "      <td>0.69</td>\n",
       "      <td>0.48</td>\n",
       "    </tr>\n",
       "    <tr>\n",
       "      <th>f1</th>\n",
       "      <td>0.51</td>\n",
       "      <td>0.55</td>\n",
       "      <td>0.49</td>\n",
       "    </tr>\n",
       "    <tr>\n",
       "      <th>roc_auc</th>\n",
       "      <td>0.79</td>\n",
       "      <td>0.82</td>\n",
       "      <td>0.68</td>\n",
       "    </tr>\n",
       "  </tbody>\n",
       "</table>\n",
       "</div>"
      ],
      "text/plain": [
       "           Logistic Regression  Random Forest  Decision Tree\n",
       "recall                    0.71           0.46           0.51\n",
       "precision                 0.40           0.69           0.48\n",
       "f1                        0.51           0.55           0.49\n",
       "roc_auc                   0.79           0.82           0.68"
      ]
     },
     "execution_count": 39,
     "metadata": {},
     "output_type": "execute_result"
    }
   ],
   "source": [
    "cw_balanced_data = scores(cw_balanced_models)\n",
    "cw_balanced_data"
   ]
  },
  {
   "cell_type": "markdown",
   "id": "f4b16937",
   "metadata": {
    "id": "f4b16937"
   },
   "source": [
    "The F1 score remains below 0.59 for all models. Balancing data with random over sample returns better F1 score for decision tree and logistic regression model. However, we still have not reached our target. Will continue testing"
   ]
  },
  {
   "cell_type": "markdown",
   "id": "bcc88fa1",
   "metadata": {
    "id": "bcc88fa1"
   },
   "source": [
    "# SMOTE"
   ]
  },
  {
   "cell_type": "markdown",
   "id": "1554082c",
   "metadata": {
    "id": "1554082c"
   },
   "source": [
    "SMOTE (Synthetic Minority Oversampling Technique) takes each minority sample and introduces synthetic data points connecting the minority sample and its nearest neighbors."
   ]
  },
  {
   "cell_type": "code",
   "execution_count": 40,
   "id": "4bbb6004",
   "metadata": {
    "id": "4bbb6004"
   },
   "outputs": [],
   "source": [
    "from imblearn.over_sampling import SMOTE"
   ]
  },
  {
   "cell_type": "code",
   "execution_count": 41,
   "id": "e53e2786",
   "metadata": {
    "id": "e53e2786"
   },
   "outputs": [],
   "source": [
    "# Upsample the minority class using SMOTE\n",
    "\n",
    "smote = SMOTE(random_state=12345)\n",
    "\n",
    "features_train_smote, target_train_smote = smote.fit_resample(features_train, target_train)"
   ]
  },
  {
   "cell_type": "code",
   "execution_count": 42,
   "id": "b473d45a",
   "metadata": {
    "id": "b473d45a",
    "outputId": "78c5cb43-6cb2-44d7-c1ae-c24351c20a27"
   },
   "outputs": [
    {
     "data": {
      "text/plain": [
       "exited\n",
       "0    5096\n",
       "1    5096\n",
       "Name: count, dtype: int64"
      ]
     },
     "execution_count": 42,
     "metadata": {},
     "output_type": "execute_result"
    },
    {
     "data": {
      "image/png": "[encoded data removed]",
      "text/plain": [
       "<Figure size 640x480 with 1 Axes>"
      ]
     },
     "metadata": {},
     "output_type": "display_data"
    }
   ],
   "source": [
    "target_train_smote.value_counts().plot(kind='bar')\n",
    "target_train_smote.value_counts()"
   ]
  },
  {
   "cell_type": "markdown",
   "id": "1cf35ef3",
   "metadata": {
    "id": "1cf35ef3"
   },
   "source": [
    "The 0s and 1s in `exited` column is now balanced. We will try training our model with balanced data."
   ]
  },
  {
   "cell_type": "markdown",
   "id": "97fa490f",
   "metadata": {
    "id": "97fa490f"
   },
   "source": [
    "### Logistic Regression"
   ]
  },
  {
   "cell_type": "code",
   "execution_count": 43,
   "id": "ebde8cf3",
   "metadata": {
    "id": "ebde8cf3",
    "outputId": "7645230d-9b8f-4530-dd2b-8093aadaaa4a"
   },
   "outputs": [
    {
     "data": {
      "text/html": [
       "<style>#sk-container-id-4 {color: black;background-color: white;}#sk-container-id-4 pre{padding: 0;}#sk-container-id-4 div.sk-toggleable {background-color: white;}#sk-container-id-4 label.sk-toggleable__label {cursor: pointer;display: block;width: 100%;margin-bottom: 0;padding: 0.3em;box-sizing: border-box;text-align: center;}#sk-container-id-4 label.sk-toggleable__label-arrow:before {content: \"▸\";float: left;margin-right: 0.25em;color: #696969;}#sk-container-id-4 label.sk-toggleable__label-arrow:hover:before {color: black;}#sk-container-id-4 div.sk-estimator:hover label.sk-toggleable__label-arrow:before {color: black;}#sk-container-id-4 div.sk-toggleable__content {max-height: 0;max-width: 0;overflow: hidden;text-align: left;background-color: #f0f8ff;}#sk-container-id-4 div.sk-toggleable__content pre {margin: 0.2em;color: black;border-radius: 0.25em;background-color: #f0f8ff;}#sk-container-id-4 input.sk-toggleable__control:checked~div.sk-toggleable__content {max-height: 200px;max-width: 100%;overflow: auto;}#sk-container-id-4 input.sk-toggleable__control:checked~label.sk-toggleable__label-arrow:before {content: \"▾\";}#sk-container-id-4 div.sk-estimator input.sk-toggleable__control:checked~label.sk-toggleable__label {background-color: #d4ebff;}#sk-container-id-4 div.sk-label input.sk-toggleable__control:checked~label.sk-toggleable__label {background-color: #d4ebff;}#sk-container-id-4 input.sk-hidden--visually {border: 0;clip: rect(1px 1px 1px 1px);clip: rect(1px, 1px, 1px, 1px);height: 1px;margin: -1px;overflow: hidden;padding: 0;position: absolute;width: 1px;}#sk-container-id-4 div.sk-estimator {font-family: monospace;background-color: #f0f8ff;border: 1px dotted black;border-radius: 0.25em;box-sizing: border-box;margin-bottom: 0.5em;}#sk-container-id-4 div.sk-estimator:hover {background-color: #d4ebff;}#sk-container-id-4 div.sk-parallel-item::after {content: \"\";width: 100%;border-bottom: 1px solid gray;flex-grow: 1;}#sk-container-id-4 div.sk-label:hover label.sk-toggleable__label {background-color: #d4ebff;}#sk-container-id-4 div.sk-serial::before {content: \"\";position: absolute;border-left: 1px solid gray;box-sizing: border-box;top: 0;bottom: 0;left: 50%;z-index: 0;}#sk-container-id-4 div.sk-serial {display: flex;flex-direction: column;align-items: center;background-color: white;padding-right: 0.2em;padding-left: 0.2em;position: relative;}#sk-container-id-4 div.sk-item {position: relative;z-index: 1;}#sk-container-id-4 div.sk-parallel {display: flex;align-items: stretch;justify-content: center;background-color: white;position: relative;}#sk-container-id-4 div.sk-item::before, #sk-container-id-4 div.sk-parallel-item::before {content: \"\";position: absolute;border-left: 1px solid gray;box-sizing: border-box;top: 0;bottom: 0;left: 50%;z-index: -1;}#sk-container-id-4 div.sk-parallel-item {display: flex;flex-direction: column;z-index: 1;position: relative;background-color: white;}#sk-container-id-4 div.sk-parallel-item:first-child::after {align-self: flex-end;width: 50%;}#sk-container-id-4 div.sk-parallel-item:last-child::after {align-self: flex-start;width: 50%;}#sk-container-id-4 div.sk-parallel-item:only-child::after {width: 0;}#sk-container-id-4 div.sk-dashed-wrapped {border: 1px dashed gray;margin: 0 0.4em 0.5em 0.4em;box-sizing: border-box;padding-bottom: 0.4em;background-color: white;}#sk-container-id-4 div.sk-label label {font-family: monospace;font-weight: bold;display: inline-block;line-height: 1.2em;}#sk-container-id-4 div.sk-label-container {text-align: center;}#sk-container-id-4 div.sk-container {/* jupyter's `normalize.less` sets `[hidden] { display: none; }` but bootstrap.min.css set `[hidden] { display: none !important; }` so we also need the `!important` here to be able to override the default hidden behavior on the sphinx rendered scikit-learn.org. See: https://github.com/scikit-learn/scikit-learn/issues/21755 */display: inline-block !important;position: relative;}#sk-container-id-4 div.sk-text-repr-fallback {display: none;}</style><div id=\"sk-container-id-4\" class=\"sk-top-container\"><div class=\"sk-text-repr-fallback\"><pre>LogisticRegression(random_state=12345, solver=&#x27;liblinear&#x27;)</pre><b>In a Jupyter environment, please rerun this cell to show the HTML representation or trust the notebook. <br />On GitHub, the HTML representation is unable to render, please try loading this page with nbviewer.org.</b></div><div class=\"sk-container\" hidden><div class=\"sk-item\"><div class=\"sk-estimator sk-toggleable\"><input class=\"sk-toggleable__control sk-hidden--visually\" id=\"sk-estimator-id-4\" type=\"checkbox\" checked><label for=\"sk-estimator-id-4\" class=\"sk-toggleable__label sk-toggleable__label-arrow\">LogisticRegression</label><div class=\"sk-toggleable__content\"><pre>LogisticRegression(random_state=12345, solver=&#x27;liblinear&#x27;)</pre></div></div></div></div></div>"
      ],
      "text/plain": [
       "LogisticRegression(random_state=12345, solver='liblinear')"
      ]
     },
     "execution_count": 43,
     "metadata": {},
     "output_type": "execute_result"
    }
   ],
   "source": [
    "# Create empty model\n",
    "\n",
    "lr_model_smote = LogisticRegression(random_state=12345, solver='liblinear')\n",
    "\n",
    "# Train the model\n",
    "lr_model_smote.fit(features_train_smote, target_train_smote)"
   ]
  },
  {
   "cell_type": "markdown",
   "id": "798a5cef",
   "metadata": {
    "id": "798a5cef"
   },
   "source": [
    "### Random Forest"
   ]
  },
  {
   "cell_type": "code",
   "execution_count": 44,
   "id": "e0e819b4",
   "metadata": {
    "id": "e0e819b4",
    "outputId": "cad56589-d4a6-477a-b8e9-6e040fdf3f81"
   },
   "outputs": [
    {
     "name": "stdout",
     "output_type": "stream",
     "text": [
      " Best hyperparameter for random forest using SMOTE is RandomForestClassifier(max_depth=19, n_estimators=9, random_state=12345)\n"
     ]
    }
   ],
   "source": [
    "# Create dictionary to store hyperparameters\n",
    "\n",
    "param_rf_smote = {'n_estimators': np.arange(1,10),\n",
    "                 'max_depth': np.arange(1,20)}\n",
    "\n",
    "# Create random model\n",
    "\n",
    "rf_smote = RandomForestClassifier(random_state=12345)\n",
    "\n",
    "# Search for best hyperparameter\n",
    "\n",
    "rf_grid_smote = GridSearchCV(rf_smote, param_grid = param_rf_smote)\n",
    "\n",
    "# Fit data to best hyperparameter and assign best one to a variable\n",
    "\n",
    "rf_grid_smote.fit(features_train_smote, target_train_smote)\n",
    "\n",
    "best_rf_smote = rf_grid_smote.best_estimator_\n",
    "\n",
    "print(f' Best hyperparameter for random forest using SMOTE is {best_rf_smote}')"
   ]
  },
  {
   "cell_type": "markdown",
   "id": "84c059c1",
   "metadata": {
    "id": "84c059c1"
   },
   "source": [
    "### Decision Tree"
   ]
  },
  {
   "cell_type": "code",
   "execution_count": 45,
   "id": "eefb7594",
   "metadata": {
    "id": "eefb7594",
    "outputId": "97e42ece-5a42-4d10-813c-81f5910941e8"
   },
   "outputs": [
    {
     "name": "stdout",
     "output_type": "stream",
     "text": [
      " Best hyperparameter for decision tree using SMOTE is RandomForestClassifier(max_depth=19, n_estimators=9, random_state=12345)\n"
     ]
    }
   ],
   "source": [
    "# Create dictionary to store hyperparamers\n",
    "\n",
    "param_dt_smote = {'max_depth':np.arange(1,20)}\n",
    "\n",
    "# Create random model\n",
    "\n",
    "dt_smote = DecisionTreeClassifier(random_state=12345)\n",
    "\n",
    "# Search for best hyperparameter\n",
    "\n",
    "dt_grid_smote = GridSearchCV(dt_smote, param_grid = param_dt_smote)\n",
    "\n",
    "# Fit data to best hyperparameter and assign best one to a variable\n",
    "\n",
    "dt_grid_smote.fit(features_train_smote, target_train_smote)\n",
    "\n",
    "best_dt_smote = rf_grid_smote.best_estimator_\n",
    "\n",
    "print(f' Best hyperparameter for decision tree using SMOTE is {best_rf_smote}')"
   ]
  },
  {
   "cell_type": "markdown",
   "id": "74d7e049",
   "metadata": {
    "id": "74d7e049"
   },
   "source": [
    "### Scores from above models with balanced data using SMOTE"
   ]
  },
  {
   "cell_type": "code",
   "execution_count": 46,
   "id": "fd75eb7c",
   "metadata": {
    "id": "fd75eb7c",
    "outputId": "53b0c479-4634-40fc-e1bf-267e098052f5"
   },
   "outputs": [
    {
     "data": {
      "text/html": [
       "<div>\n",
       "<style scoped>\n",
       "    .dataframe tbody tr th:only-of-type {\n",
       "        vertical-align: middle;\n",
       "    }\n",
       "\n",
       "    .dataframe tbody tr th {\n",
       "        vertical-align: top;\n",
       "    }\n",
       "\n",
       "    .dataframe thead th {\n",
       "        text-align: right;\n",
       "    }\n",
       "</style>\n",
       "<table border=\"1\" class=\"dataframe\">\n",
       "  <thead>\n",
       "    <tr style=\"text-align: right;\">\n",
       "      <th></th>\n",
       "      <th>Logistic Regression</th>\n",
       "      <th>Random Forest</th>\n",
       "      <th>Decision Tree</th>\n",
       "    </tr>\n",
       "  </thead>\n",
       "  <tbody>\n",
       "    <tr>\n",
       "      <th>recall</th>\n",
       "      <td>0.71</td>\n",
       "      <td>0.61</td>\n",
       "      <td>0.61</td>\n",
       "    </tr>\n",
       "    <tr>\n",
       "      <th>precision</th>\n",
       "      <td>0.40</td>\n",
       "      <td>0.55</td>\n",
       "      <td>0.55</td>\n",
       "    </tr>\n",
       "    <tr>\n",
       "      <th>f1</th>\n",
       "      <td>0.51</td>\n",
       "      <td>0.58</td>\n",
       "      <td>0.58</td>\n",
       "    </tr>\n",
       "    <tr>\n",
       "      <th>roc_auc</th>\n",
       "      <td>0.79</td>\n",
       "      <td>0.81</td>\n",
       "      <td>0.81</td>\n",
       "    </tr>\n",
       "  </tbody>\n",
       "</table>\n",
       "</div>"
      ],
      "text/plain": [
       "           Logistic Regression  Random Forest  Decision Tree\n",
       "recall                    0.71           0.61           0.61\n",
       "precision                 0.40           0.55           0.55\n",
       "f1                        0.51           0.58           0.58\n",
       "roc_auc                   0.79           0.81           0.81"
      ]
     },
     "execution_count": 46,
     "metadata": {},
     "output_type": "execute_result"
    }
   ],
   "source": [
    "smote_models = [lr_model_smote,best_rf_smote,best_dt_smote,]\n",
    "\n",
    "smote_data = scores(smote_models)\n",
    "\n",
    "smote_data"
   ]
  },
  {
   "cell_type": "markdown",
   "id": "fff41d12",
   "metadata": {
    "id": "fff41d12"
   },
   "source": [
    "The F1 score achieved 59 for both random forest and decision tree this time. We could stop here but want to test out if we can achieve even better score with undersampling"
   ]
  },
  {
   "cell_type": "markdown",
   "id": "fad91f2d",
   "metadata": {
    "id": "fad91f2d"
   },
   "source": [
    "# Random Under Sampler"
   ]
  },
  {
   "cell_type": "markdown",
   "id": "6c0fbc84",
   "metadata": {
    "id": "6c0fbc84"
   },
   "source": [
    "Undersampling will remove data from the majority class until it matches the number of the minority class. It will require less time to train the model as the dataset is smaller. However, it may remove useful information or lead to biased of data."
   ]
  },
  {
   "cell_type": "code",
   "execution_count": 47,
   "id": "2f07c1ae",
   "metadata": {
    "id": "2f07c1ae"
   },
   "outputs": [],
   "source": [
    "from imblearn.under_sampling import RandomUnderSampler"
   ]
  },
  {
   "cell_type": "markdown",
   "id": "266b2140",
   "metadata": {
    "id": "266b2140"
   },
   "source": [
    "### Logistic Regression"
   ]
  },
  {
   "cell_type": "code",
   "execution_count": 48,
   "id": "2935eb8c",
   "metadata": {
    "id": "2935eb8c"
   },
   "outputs": [],
   "source": [
    "# Randomly under sample the majority class\n",
    "\n",
    "lr_model_rus = RandomUnderSampler(random_state=12345)\n",
    "\n",
    "features_train_rus, target_train_rus = lr_model_rus.fit_resample(features_train, target_train)"
   ]
  },
  {
   "cell_type": "code",
   "execution_count": 49,
   "id": "5944fa27",
   "metadata": {
    "id": "5944fa27",
    "outputId": "d734d1e7-39e9-4351-8e45-376b5da22565"
   },
   "outputs": [
    {
     "data": {
      "text/html": [
       "<style>#sk-container-id-5 {color: black;background-color: white;}#sk-container-id-5 pre{padding: 0;}#sk-container-id-5 div.sk-toggleable {background-color: white;}#sk-container-id-5 label.sk-toggleable__label {cursor: pointer;display: block;width: 100%;margin-bottom: 0;padding: 0.3em;box-sizing: border-box;text-align: center;}#sk-container-id-5 label.sk-toggleable__label-arrow:before {content: \"▸\";float: left;margin-right: 0.25em;color: #696969;}#sk-container-id-5 label.sk-toggleable__label-arrow:hover:before {color: black;}#sk-container-id-5 div.sk-estimator:hover label.sk-toggleable__label-arrow:before {color: black;}#sk-container-id-5 div.sk-toggleable__content {max-height: 0;max-width: 0;overflow: hidden;text-align: left;background-color: #f0f8ff;}#sk-container-id-5 div.sk-toggleable__content pre {margin: 0.2em;color: black;border-radius: 0.25em;background-color: #f0f8ff;}#sk-container-id-5 input.sk-toggleable__control:checked~div.sk-toggleable__content {max-height: 200px;max-width: 100%;overflow: auto;}#sk-container-id-5 input.sk-toggleable__control:checked~label.sk-toggleable__label-arrow:before {content: \"▾\";}#sk-container-id-5 div.sk-estimator input.sk-toggleable__control:checked~label.sk-toggleable__label {background-color: #d4ebff;}#sk-container-id-5 div.sk-label input.sk-toggleable__control:checked~label.sk-toggleable__label {background-color: #d4ebff;}#sk-container-id-5 input.sk-hidden--visually {border: 0;clip: rect(1px 1px 1px 1px);clip: rect(1px, 1px, 1px, 1px);height: 1px;margin: -1px;overflow: hidden;padding: 0;position: absolute;width: 1px;}#sk-container-id-5 div.sk-estimator {font-family: monospace;background-color: #f0f8ff;border: 1px dotted black;border-radius: 0.25em;box-sizing: border-box;margin-bottom: 0.5em;}#sk-container-id-5 div.sk-estimator:hover {background-color: #d4ebff;}#sk-container-id-5 div.sk-parallel-item::after {content: \"\";width: 100%;border-bottom: 1px solid gray;flex-grow: 1;}#sk-container-id-5 div.sk-label:hover label.sk-toggleable__label {background-color: #d4ebff;}#sk-container-id-5 div.sk-serial::before {content: \"\";position: absolute;border-left: 1px solid gray;box-sizing: border-box;top: 0;bottom: 0;left: 50%;z-index: 0;}#sk-container-id-5 div.sk-serial {display: flex;flex-direction: column;align-items: center;background-color: white;padding-right: 0.2em;padding-left: 0.2em;position: relative;}#sk-container-id-5 div.sk-item {position: relative;z-index: 1;}#sk-container-id-5 div.sk-parallel {display: flex;align-items: stretch;justify-content: center;background-color: white;position: relative;}#sk-container-id-5 div.sk-item::before, #sk-container-id-5 div.sk-parallel-item::before {content: \"\";position: absolute;border-left: 1px solid gray;box-sizing: border-box;top: 0;bottom: 0;left: 50%;z-index: -1;}#sk-container-id-5 div.sk-parallel-item {display: flex;flex-direction: column;z-index: 1;position: relative;background-color: white;}#sk-container-id-5 div.sk-parallel-item:first-child::after {align-self: flex-end;width: 50%;}#sk-container-id-5 div.sk-parallel-item:last-child::after {align-self: flex-start;width: 50%;}#sk-container-id-5 div.sk-parallel-item:only-child::after {width: 0;}#sk-container-id-5 div.sk-dashed-wrapped {border: 1px dashed gray;margin: 0 0.4em 0.5em 0.4em;box-sizing: border-box;padding-bottom: 0.4em;background-color: white;}#sk-container-id-5 div.sk-label label {font-family: monospace;font-weight: bold;display: inline-block;line-height: 1.2em;}#sk-container-id-5 div.sk-label-container {text-align: center;}#sk-container-id-5 div.sk-container {/* jupyter's `normalize.less` sets `[hidden] { display: none; }` but bootstrap.min.css set `[hidden] { display: none !important; }` so we also need the `!important` here to be able to override the default hidden behavior on the sphinx rendered scikit-learn.org. See: https://github.com/scikit-learn/scikit-learn/issues/21755 */display: inline-block !important;position: relative;}#sk-container-id-5 div.sk-text-repr-fallback {display: none;}</style><div id=\"sk-container-id-5\" class=\"sk-top-container\"><div class=\"sk-text-repr-fallback\"><pre>LogisticRegression(random_state=12345, solver=&#x27;liblinear&#x27;)</pre><b>In a Jupyter environment, please rerun this cell to show the HTML representation or trust the notebook. <br />On GitHub, the HTML representation is unable to render, please try loading this page with nbviewer.org.</b></div><div class=\"sk-container\" hidden><div class=\"sk-item\"><div class=\"sk-estimator sk-toggleable\"><input class=\"sk-toggleable__control sk-hidden--visually\" id=\"sk-estimator-id-5\" type=\"checkbox\" checked><label for=\"sk-estimator-id-5\" class=\"sk-toggleable__label sk-toggleable__label-arrow\">LogisticRegression</label><div class=\"sk-toggleable__content\"><pre>LogisticRegression(random_state=12345, solver=&#x27;liblinear&#x27;)</pre></div></div></div></div></div>"
      ],
      "text/plain": [
       "LogisticRegression(random_state=12345, solver='liblinear')"
      ]
     },
     "execution_count": 49,
     "metadata": {},
     "output_type": "execute_result"
    }
   ],
   "source": [
    "# Create an empty model\n",
    "\n",
    "lr_model_rus = LogisticRegression(random_state=12345, solver='liblinear')\n",
    "\n",
    "# Train the model\n",
    "\n",
    "lr_model_rus.fit(features_train_rus, target_train_rus)"
   ]
  },
  {
   "cell_type": "markdown",
   "id": "d4a8f332",
   "metadata": {
    "id": "d4a8f332"
   },
   "source": [
    "### Random Forest"
   ]
  },
  {
   "cell_type": "code",
   "execution_count": 50,
   "id": "e3fdf99e",
   "metadata": {
    "id": "e3fdf99e",
    "outputId": "8a8df7bc-df7e-4bbf-f496-265e16715e61"
   },
   "outputs": [
    {
     "name": "stdout",
     "output_type": "stream",
     "text": [
      " Best hyperparameter for random forest using random under sampler is RandomForestClassifier(max_depth=9, n_estimators=9, random_state=12345)\n"
     ]
    }
   ],
   "source": [
    "# Create dictionary for hyperparameter\n",
    "\n",
    "param_rf_rus = {'n_estimators': np.arange(1,10),\n",
    "               'max_depth':np.arange(1,20)}\n",
    "\n",
    "# Create random model\n",
    "\n",
    "rf_rus = RandomForestClassifier(random_state=12345)\n",
    "\n",
    "# Use grid search to find best hyperparameters\n",
    "\n",
    "rf_grid_rus = GridSearchCV(rf_rus, param_grid=param_rf_rus)\n",
    "\n",
    "# Fit the data with best hyperparameter and store in a variable\n",
    "\n",
    "best_rf_rus = rf_grid_rus.fit(features_train_rus,target_train_rus).best_estimator_\n",
    "\n",
    "print(f' Best hyperparameter for random forest using random under sampler is {best_rf_rus}')"
   ]
  },
  {
   "cell_type": "markdown",
   "id": "ae140ec2",
   "metadata": {
    "id": "ae140ec2"
   },
   "source": [
    "### Decision Tree"
   ]
  },
  {
   "cell_type": "code",
   "execution_count": 51,
   "id": "b07930f1",
   "metadata": {
    "id": "b07930f1",
    "outputId": "80b4ad85-ed89-448a-e61f-66a484a5577b"
   },
   "outputs": [
    {
     "name": "stdout",
     "output_type": "stream",
     "text": [
      " Best hyperparameter for decision tree using random under sampler is RandomForestClassifier(max_depth=9, n_estimators=9, random_state=12345)\n"
     ]
    }
   ],
   "source": [
    "# Create dictionary for hyperparameter\n",
    "\n",
    "param_dt_rus = {'max_depth':np.arange(1,20)}\n",
    "\n",
    "# Create a random model\n",
    "\n",
    "dt_rus = DecisionTreeClassifier(random_state=12345)\n",
    "\n",
    "# Use grid search to find best hyperparameter\n",
    "\n",
    "dt_grid_rus = GridSearchCV(dt_rus,param_grid = param_dt_rus)\n",
    "\n",
    "# Fit the data with best hyperparameter and store in a variable\n",
    "\n",
    "best_dt_rus = dt_grid_rus.fit(features_train_rus,target_train_rus)\n",
    "\n",
    "print(f' Best hyperparameter for decision tree using random under sampler is {best_rf_rus}')"
   ]
  },
  {
   "cell_type": "markdown",
   "id": "f1b31a3e",
   "metadata": {
    "id": "f1b31a3e"
   },
   "source": [
    "### Scores from above models with balanced data using random under sampler"
   ]
  },
  {
   "cell_type": "code",
   "execution_count": 52,
   "id": "06aed2b6",
   "metadata": {
    "id": "06aed2b6",
    "outputId": "d89251d2-4b14-4b88-a1f8-f6ccacd333cb"
   },
   "outputs": [
    {
     "data": {
      "text/html": [
       "<div>\n",
       "<style scoped>\n",
       "    .dataframe tbody tr th:only-of-type {\n",
       "        vertical-align: middle;\n",
       "    }\n",
       "\n",
       "    .dataframe tbody tr th {\n",
       "        vertical-align: top;\n",
       "    }\n",
       "\n",
       "    .dataframe thead th {\n",
       "        text-align: right;\n",
       "    }\n",
       "</style>\n",
       "<table border=\"1\" class=\"dataframe\">\n",
       "  <thead>\n",
       "    <tr style=\"text-align: right;\">\n",
       "      <th></th>\n",
       "      <th>Logistic Regression</th>\n",
       "      <th>Random Forest</th>\n",
       "      <th>Decision Tree</th>\n",
       "    </tr>\n",
       "  </thead>\n",
       "  <tbody>\n",
       "    <tr>\n",
       "      <th>recall</th>\n",
       "      <td>0.71</td>\n",
       "      <td>0.75</td>\n",
       "      <td>0.75</td>\n",
       "    </tr>\n",
       "    <tr>\n",
       "      <th>precision</th>\n",
       "      <td>0.40</td>\n",
       "      <td>0.50</td>\n",
       "      <td>0.50</td>\n",
       "    </tr>\n",
       "    <tr>\n",
       "      <th>f1</th>\n",
       "      <td>0.51</td>\n",
       "      <td>0.60</td>\n",
       "      <td>0.60</td>\n",
       "    </tr>\n",
       "    <tr>\n",
       "      <th>roc_auc</th>\n",
       "      <td>0.79</td>\n",
       "      <td>0.85</td>\n",
       "      <td>0.85</td>\n",
       "    </tr>\n",
       "  </tbody>\n",
       "</table>\n",
       "</div>"
      ],
      "text/plain": [
       "           Logistic Regression  Random Forest  Decision Tree\n",
       "recall                    0.71           0.75           0.75\n",
       "precision                 0.40           0.50           0.50\n",
       "f1                        0.51           0.60           0.60\n",
       "roc_auc                   0.79           0.85           0.85"
      ]
     },
     "execution_count": 52,
     "metadata": {},
     "output_type": "execute_result"
    }
   ],
   "source": [
    "rus_models = [lr_model_rus, best_rf_rus, best_rf_rus]\n",
    "\n",
    "rus_data = scores(rus_models)\n",
    "\n",
    "rus_data"
   ]
  },
  {
   "cell_type": "markdown",
   "id": "7b7079a6",
   "metadata": {
    "id": "7b7079a6"
   },
   "source": [
    "The F1 score and roc_auc score both have improved for random forest and decision tree. The f1 score for logistic regression has also improved significantly."
   ]
  },
  {
   "cell_type": "markdown",
   "id": "c5d332eb",
   "metadata": {
    "id": "c5d332eb"
   },
   "source": [
    "# Testing Dataset"
   ]
  },
  {
   "cell_type": "markdown",
   "id": "2899e313",
   "metadata": {
    "id": "2899e313"
   },
   "source": [
    "## Using Random Forest from random under sampler on testing data"
   ]
  },
  {
   "cell_type": "markdown",
   "id": "4fa0b550",
   "metadata": {
    "id": "4fa0b550"
   },
   "source": [
    "After testing balancing the dataset with different methods, random under sampler returns the best F1 score of 0.6 for both random forest and decision tree classifier.\n",
    "\n",
    "Therefore, I will use model that was trained with random under sampler on our testing data. The f1 and roc_auc have the same score for both decision tree and random forest. I will pick random forest as it prevents overfitting."
   ]
  },
  {
   "cell_type": "code",
   "execution_count": 53,
   "id": "668a3485",
   "metadata": {
    "id": "668a3485",
    "outputId": "0abc8eb5-6091-4d97-fa6c-a935509155ca",
    "scrolled": true
   },
   "outputs": [
    {
     "data": {
      "text/html": [
       "<div>\n",
       "<style scoped>\n",
       "    .dataframe tbody tr th:only-of-type {\n",
       "        vertical-align: middle;\n",
       "    }\n",
       "\n",
       "    .dataframe tbody tr th {\n",
       "        vertical-align: top;\n",
       "    }\n",
       "\n",
       "    .dataframe thead th {\n",
       "        text-align: right;\n",
       "    }\n",
       "</style>\n",
       "<table border=\"1\" class=\"dataframe\">\n",
       "  <thead>\n",
       "    <tr style=\"text-align: right;\">\n",
       "      <th></th>\n",
       "      <th>Random Forest</th>\n",
       "    </tr>\n",
       "  </thead>\n",
       "  <tbody>\n",
       "    <tr>\n",
       "      <th>precision</th>\n",
       "      <td>0.57</td>\n",
       "    </tr>\n",
       "    <tr>\n",
       "      <th>recall</th>\n",
       "      <td>0.67</td>\n",
       "    </tr>\n",
       "    <tr>\n",
       "      <th>f1</th>\n",
       "      <td>0.61</td>\n",
       "    </tr>\n",
       "    <tr>\n",
       "      <th>roc_auc</th>\n",
       "      <td>0.83</td>\n",
       "    </tr>\n",
       "  </tbody>\n",
       "</table>\n",
       "</div>"
      ],
      "text/plain": [
       "           Random Forest\n",
       "precision           0.57\n",
       "recall              0.67\n",
       "f1                  0.61\n",
       "roc_auc             0.83"
      ]
     },
     "execution_count": 53,
     "metadata": {},
     "output_type": "execute_result"
    }
   ],
   "source": [
    "# Create data frame to store the scores\n",
    "\n",
    "test_scores = pd.DataFrame(columns=['Random Forest'])\n",
    "\n",
    "# Predicting testing set features\n",
    "\n",
    "predictions_test_rus = best_dt_rus.predict(features_test)\n",
    "\n",
    "# Getting the scores\n",
    "precision_rus = round(precision_score(target_test,predictions_test_rus),2)\n",
    "recall_rus = round(recall_score(target_test, predictions_test_rus),2)\n",
    "f1_rus = round(f1_score(target_test,predictions_test_rus),2)\n",
    "probabilities_test = best_dt_rus.predict_proba(features_test)\n",
    "probabilities_one_test = probabilities_test[:,1]\n",
    "roc_auc_rus = round(roc_auc_score(target_test,probabilities_one_test),2)\n",
    "\n",
    "test_scores.loc['precision'] = precision_rus\n",
    "test_scores.loc['recall'] = recall_rus\n",
    "test_scores.loc['f1']=f1_rus\n",
    "test_scores.loc['roc_auc']= roc_auc_rus\n",
    "\n",
    "test_scores"
   ]
  },
  {
   "cell_type": "code",
   "execution_count": 54,
   "id": "815bf0ed",
   "metadata": {
    "id": "815bf0ed",
    "outputId": "9c2d59ca-8312-4d78-a4ab-1c63828746b6"
   },
   "outputs": [
    {
     "data": {
      "image/png": "[encoded data removed]",
      "text/plain": [
       "<Figure size 640x480 with 1 Axes>"
      ]
     },
     "metadata": {},
     "output_type": "display_data"
    }
   ],
   "source": [
    "fpr, tpr, thresholds = roc_curve(target_test, probabilities_one_test)\n",
    "\n",
    "plt.title('ROC curve for random forest using random under sampler')\n",
    "plt.plot(fpr,tpr)\n",
    "plt.plot([0,1],[0,1])\n",
    "plt.xlabel('False Positive Rate')\n",
    "plt.ylabel('True Positive Rate')\n",
    "plt.show()"
   ]
  },
  {
   "cell_type": "markdown",
   "id": "ba86ebe5",
   "metadata": {
    "id": "ba86ebe5"
   },
   "source": [
    "# Conclusion"
   ]
  },
  {
   "cell_type": "markdown",
   "id": "da731bb7",
   "metadata": {
    "id": "da731bb7"
   },
   "source": [
    "The goal of the project is to predict whethere a customer will churn. We have clients past behavior to build our model. The goal is to have F1 score of at least 0.59.\n",
    "\n",
    "We first examine the data and noticed there are missing rows for `tenure` column. We filled the `tenure` column with median value.\n",
    "\n",
    "After filling in missing values, I prepare the data by dropping `rownumber`, `customerid` and `surname` as they are not relevant to predicting customer churn. There are 2 categorical columns `geography` and `gender` so I used one hot encoding to transform the data. In addition, to one hot encoding, I have used the standard scaler to scale columns to make sure all the values are balanced out before training the model. Lastly, I split the model into training, validation and test set.\n",
    "\n",
    "There is imbalance data class for our target column exited . I tested logistic regression, random forest and decision tree on imbalance class as a baseline. However, the F1 score was not desirable. Subsequently, I used random over sampler, class weight adjustment, SMOTE and random under sampler to balance the class and trained the 3 models.\n",
    "\n",
    "Random under sampler returns the best F1 score and roc_auc for random forest and decision tree. I chose random forest because it is better at avoid overfitting problem.\n",
    "\n",
    "The F1 score for the testing set is 0.61. The model is able to correctly identify 83% of the true positives and 17% of the false positives."
   ]
  }
 ],
 "metadata": {
  "colab": {
   "provenance": []
  },
  "kernelspec": {
   "display_name": "Python 3 (ipykernel)",
   "language": "python",
   "name": "python3"
  },
  "language_info": {
   "codemirror_mode": {
    "name": "ipython",
    "version": 3
   },
   "file_extension": ".py",
   "mimetype": "text/x-python",
   "name": "python",
   "nbconvert_exporter": "python",
   "pygments_lexer": "ipython3",
   "version": "3.11.5"
  },
  "toc": {
   "base_numbering": 1,
   "nav_menu": {},
   "number_sections": true,
   "sideBar": true,
   "skip_h1_title": true,
   "title_cell": "Table of Contents",
   "title_sidebar": "Contents",
   "toc_cell": false,
   "toc_position": {},
   "toc_section_display": true,
   "toc_window_display": false
  }
 },
 "nbformat": 4,
 "nbformat_minor": 5
}
